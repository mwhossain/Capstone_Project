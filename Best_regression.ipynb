{
 "cells": [
  {
   "cell_type": "code",
   "execution_count": 1,
   "metadata": {},
   "outputs": [],
   "source": [
    "%matplotlib inline\n",
    "import numpy as np\n",
    "import pandas as pd\n",
    "import string\n",
    "from numpy.random import normal,random,seed\n",
    "from scipy.stats import norm\n",
    "import matplotlib.pyplot as plt\n",
    "\n",
    "from sklearn.ensemble import RandomForestRegressor\n",
    "from sklearn.preprocessing import LabelEncoder\n",
    "from sklearn.model_selection import GridSearchCV,cross_val_score,train_test_split\n",
    "from sklearn.metrics import log_loss\n",
    "import xgboost as xgb\n",
    "from xgboost.sklearn import XGBRegressor"
   ]
  },
  {
   "cell_type": "code",
   "execution_count": 2,
   "metadata": {},
   "outputs": [],
   "source": [
    "pd.set_option('display.max_columns', None)"
   ]
  },
  {
   "cell_type": "code",
   "execution_count": 3,
   "metadata": {},
   "outputs": [],
   "source": [
    "df = pd.read_csv('V3.csv')"
   ]
  },
  {
   "cell_type": "code",
   "execution_count": 4,
   "metadata": {},
   "outputs": [
    {
     "data": {
      "text/html": [
       "<div>\n",
       "<style scoped>\n",
       "    .dataframe tbody tr th:only-of-type {\n",
       "        vertical-align: middle;\n",
       "    }\n",
       "\n",
       "    .dataframe tbody tr th {\n",
       "        vertical-align: top;\n",
       "    }\n",
       "\n",
       "    .dataframe thead th {\n",
       "        text-align: right;\n",
       "    }\n",
       "</style>\n",
       "<table border=\"1\" class=\"dataframe\">\n",
       "  <thead>\n",
       "    <tr style=\"text-align: right;\">\n",
       "      <th></th>\n",
       "      <th>DATE_ID</th>\n",
       "      <th>CAMPAIGN</th>\n",
       "      <th>KEYWORD</th>\n",
       "      <th>_POSITION</th>\n",
       "      <th>CLICKS</th>\n",
       "      <th>CPC</th>\n",
       "      <th>IMPRESSIONS</th>\n",
       "      <th>MEDIA_COST</th>\n",
       "      <th>CTR</th>\n",
       "      <th>Flag</th>\n",
       "      <th>CAMP_ID</th>\n",
       "      <th>week</th>\n",
       "      <th>KW_ID</th>\n",
       "      <th>Q</th>\n",
       "      <th>NETWORK_Bing</th>\n",
       "      <th>NETWORK_Google</th>\n",
       "      <th>NETWORK_Yahoo</th>\n",
       "      <th>CAMPAIGN_TYPE_Branded</th>\n",
       "      <th>CAMPAIGN_TYPE_Unbranded</th>\n",
       "    </tr>\n",
       "  </thead>\n",
       "  <tbody>\n",
       "    <tr>\n",
       "      <th>0</th>\n",
       "      <td>20170521</td>\n",
       "      <td>Non Brand | Condition | Geo</td>\n",
       "      <td>symptoms of asthma</td>\n",
       "      <td>2.08</td>\n",
       "      <td>3.0</td>\n",
       "      <td>1.8</td>\n",
       "      <td>51.0</td>\n",
       "      <td>5.4</td>\n",
       "      <td>0.058824</td>\n",
       "      <td>1.0</td>\n",
       "      <td>1</td>\n",
       "      <td>7</td>\n",
       "      <td>1</td>\n",
       "      <td>2.0</td>\n",
       "      <td>0</td>\n",
       "      <td>1</td>\n",
       "      <td>0</td>\n",
       "      <td>0</td>\n",
       "      <td>1</td>\n",
       "    </tr>\n",
       "    <tr>\n",
       "      <th>1</th>\n",
       "      <td>20170521</td>\n",
       "      <td>Brand</td>\n",
       "      <td>product1 spacer</td>\n",
       "      <td>1.00</td>\n",
       "      <td>0.0</td>\n",
       "      <td>0.0</td>\n",
       "      <td>2.0</td>\n",
       "      <td>0.0</td>\n",
       "      <td>0.000000</td>\n",
       "      <td>0.0</td>\n",
       "      <td>2</td>\n",
       "      <td>7</td>\n",
       "      <td>2</td>\n",
       "      <td>2.0</td>\n",
       "      <td>0</td>\n",
       "      <td>1</td>\n",
       "      <td>0</td>\n",
       "      <td>1</td>\n",
       "      <td>0</td>\n",
       "    </tr>\n",
       "    <tr>\n",
       "      <th>2</th>\n",
       "      <td>20170521</td>\n",
       "      <td>Non Brand | Treatment | National</td>\n",
       "      <td>how to prevent asthma</td>\n",
       "      <td>1.48</td>\n",
       "      <td>0.0</td>\n",
       "      <td>0.0</td>\n",
       "      <td>4.0</td>\n",
       "      <td>0.0</td>\n",
       "      <td>0.000000</td>\n",
       "      <td>0.0</td>\n",
       "      <td>3</td>\n",
       "      <td>7</td>\n",
       "      <td>3</td>\n",
       "      <td>2.0</td>\n",
       "      <td>0</td>\n",
       "      <td>1</td>\n",
       "      <td>0</td>\n",
       "      <td>0</td>\n",
       "      <td>1</td>\n",
       "    </tr>\n",
       "    <tr>\n",
       "      <th>3</th>\n",
       "      <td>20170521</td>\n",
       "      <td>Non Brand | Info | Geo</td>\n",
       "      <td>facts about asthma</td>\n",
       "      <td>0.00</td>\n",
       "      <td>0.0</td>\n",
       "      <td>0.0</td>\n",
       "      <td>0.0</td>\n",
       "      <td>0.0</td>\n",
       "      <td>0.000000</td>\n",
       "      <td>0.0</td>\n",
       "      <td>4</td>\n",
       "      <td>7</td>\n",
       "      <td>4</td>\n",
       "      <td>2.0</td>\n",
       "      <td>1</td>\n",
       "      <td>0</td>\n",
       "      <td>0</td>\n",
       "      <td>0</td>\n",
       "      <td>1</td>\n",
       "    </tr>\n",
       "    <tr>\n",
       "      <th>4</th>\n",
       "      <td>20170521</td>\n",
       "      <td>Non Brand | Condition | Geo</td>\n",
       "      <td>asthma symptoms in children</td>\n",
       "      <td>0.00</td>\n",
       "      <td>0.0</td>\n",
       "      <td>0.0</td>\n",
       "      <td>0.0</td>\n",
       "      <td>0.0</td>\n",
       "      <td>0.000000</td>\n",
       "      <td>0.0</td>\n",
       "      <td>1</td>\n",
       "      <td>7</td>\n",
       "      <td>5</td>\n",
       "      <td>2.0</td>\n",
       "      <td>1</td>\n",
       "      <td>0</td>\n",
       "      <td>0</td>\n",
       "      <td>0</td>\n",
       "      <td>1</td>\n",
       "    </tr>\n",
       "  </tbody>\n",
       "</table>\n",
       "</div>"
      ],
      "text/plain": [
       "    DATE_ID                          CAMPAIGN                      KEYWORD  \\\n",
       "0  20170521       Non Brand | Condition | Geo           symptoms of asthma   \n",
       "1  20170521                             Brand              product1 spacer   \n",
       "2  20170521  Non Brand | Treatment | National        how to prevent asthma   \n",
       "3  20170521            Non Brand | Info | Geo           facts about asthma   \n",
       "4  20170521       Non Brand | Condition | Geo  asthma symptoms in children   \n",
       "\n",
       "   _POSITION  CLICKS  CPC  IMPRESSIONS  MEDIA_COST       CTR  Flag  CAMP_ID  \\\n",
       "0       2.08     3.0  1.8         51.0         5.4  0.058824   1.0        1   \n",
       "1       1.00     0.0  0.0          2.0         0.0  0.000000   0.0        2   \n",
       "2       1.48     0.0  0.0          4.0         0.0  0.000000   0.0        3   \n",
       "3       0.00     0.0  0.0          0.0         0.0  0.000000   0.0        4   \n",
       "4       0.00     0.0  0.0          0.0         0.0  0.000000   0.0        1   \n",
       "\n",
       "   week  KW_ID    Q  NETWORK_Bing  NETWORK_Google  NETWORK_Yahoo  \\\n",
       "0     7      1  2.0             0               1              0   \n",
       "1     7      2  2.0             0               1              0   \n",
       "2     7      3  2.0             0               1              0   \n",
       "3     7      4  2.0             1               0              0   \n",
       "4     7      5  2.0             1               0              0   \n",
       "\n",
       "   CAMPAIGN_TYPE_Branded  CAMPAIGN_TYPE_Unbranded  \n",
       "0                      0                        1  \n",
       "1                      1                        0  \n",
       "2                      0                        1  \n",
       "3                      0                        1  \n",
       "4                      0                        1  "
      ]
     },
     "execution_count": 4,
     "metadata": {},
     "output_type": "execute_result"
    }
   ],
   "source": [
    "df.head()"
   ]
  },
  {
   "cell_type": "code",
   "execution_count": 4,
   "metadata": {},
   "outputs": [
    {
     "data": {
      "text/html": [
       "<div>\n",
       "<style scoped>\n",
       "    .dataframe tbody tr th:only-of-type {\n",
       "        vertical-align: middle;\n",
       "    }\n",
       "\n",
       "    .dataframe tbody tr th {\n",
       "        vertical-align: top;\n",
       "    }\n",
       "\n",
       "    .dataframe thead th {\n",
       "        text-align: right;\n",
       "    }\n",
       "</style>\n",
       "<table border=\"1\" class=\"dataframe\">\n",
       "  <thead>\n",
       "    <tr style=\"text-align: right;\">\n",
       "      <th></th>\n",
       "      <th>DATE_ID</th>\n",
       "      <th>CAMPAIGN</th>\n",
       "      <th>KEYWORD</th>\n",
       "      <th>_POSITION</th>\n",
       "      <th>CLICKS</th>\n",
       "      <th>CPC</th>\n",
       "      <th>IMPRESSIONS</th>\n",
       "      <th>MEDIA_COST</th>\n",
       "      <th>CTR</th>\n",
       "      <th>Flag</th>\n",
       "      <th>CAMP_ID</th>\n",
       "      <th>week</th>\n",
       "      <th>KW_ID</th>\n",
       "      <th>Q</th>\n",
       "      <th>NETWORK_Bing</th>\n",
       "      <th>NETWORK_Google</th>\n",
       "      <th>NETWORK_Yahoo</th>\n",
       "      <th>CAMPAIGN_TYPE_Branded</th>\n",
       "      <th>CAMPAIGN_TYPE_Unbranded</th>\n",
       "      <th>logCTR</th>\n",
       "      <th>logClicks</th>\n",
       "      <th>logImpression</th>\n",
       "    </tr>\n",
       "  </thead>\n",
       "  <tbody>\n",
       "    <tr>\n",
       "      <th>0</th>\n",
       "      <td>20170521</td>\n",
       "      <td>Non Brand | Condition | Geo</td>\n",
       "      <td>symptoms of asthma</td>\n",
       "      <td>2.08</td>\n",
       "      <td>3.0</td>\n",
       "      <td>1.8</td>\n",
       "      <td>51.0</td>\n",
       "      <td>5.4</td>\n",
       "      <td>0.058824</td>\n",
       "      <td>1.0</td>\n",
       "      <td>1</td>\n",
       "      <td>7</td>\n",
       "      <td>1</td>\n",
       "      <td>2.0</td>\n",
       "      <td>0</td>\n",
       "      <td>1</td>\n",
       "      <td>0</td>\n",
       "      <td>0</td>\n",
       "      <td>1</td>\n",
       "      <td>0.057158</td>\n",
       "      <td>1.386294</td>\n",
       "      <td>3.951244</td>\n",
       "    </tr>\n",
       "    <tr>\n",
       "      <th>1</th>\n",
       "      <td>20170521</td>\n",
       "      <td>Brand</td>\n",
       "      <td>product1 spacer</td>\n",
       "      <td>1.00</td>\n",
       "      <td>0.0</td>\n",
       "      <td>0.0</td>\n",
       "      <td>2.0</td>\n",
       "      <td>0.0</td>\n",
       "      <td>0.000000</td>\n",
       "      <td>0.0</td>\n",
       "      <td>2</td>\n",
       "      <td>7</td>\n",
       "      <td>2</td>\n",
       "      <td>2.0</td>\n",
       "      <td>0</td>\n",
       "      <td>1</td>\n",
       "      <td>0</td>\n",
       "      <td>1</td>\n",
       "      <td>0</td>\n",
       "      <td>0.000000</td>\n",
       "      <td>0.000000</td>\n",
       "      <td>1.098612</td>\n",
       "    </tr>\n",
       "    <tr>\n",
       "      <th>2</th>\n",
       "      <td>20170521</td>\n",
       "      <td>Non Brand | Treatment | National</td>\n",
       "      <td>how to prevent asthma</td>\n",
       "      <td>1.48</td>\n",
       "      <td>0.0</td>\n",
       "      <td>0.0</td>\n",
       "      <td>4.0</td>\n",
       "      <td>0.0</td>\n",
       "      <td>0.000000</td>\n",
       "      <td>0.0</td>\n",
       "      <td>3</td>\n",
       "      <td>7</td>\n",
       "      <td>3</td>\n",
       "      <td>2.0</td>\n",
       "      <td>0</td>\n",
       "      <td>1</td>\n",
       "      <td>0</td>\n",
       "      <td>0</td>\n",
       "      <td>1</td>\n",
       "      <td>0.000000</td>\n",
       "      <td>0.000000</td>\n",
       "      <td>1.609438</td>\n",
       "    </tr>\n",
       "    <tr>\n",
       "      <th>3</th>\n",
       "      <td>20170521</td>\n",
       "      <td>Non Brand | Info | Geo</td>\n",
       "      <td>facts about asthma</td>\n",
       "      <td>0.00</td>\n",
       "      <td>0.0</td>\n",
       "      <td>0.0</td>\n",
       "      <td>0.0</td>\n",
       "      <td>0.0</td>\n",
       "      <td>0.000000</td>\n",
       "      <td>0.0</td>\n",
       "      <td>4</td>\n",
       "      <td>7</td>\n",
       "      <td>4</td>\n",
       "      <td>2.0</td>\n",
       "      <td>1</td>\n",
       "      <td>0</td>\n",
       "      <td>0</td>\n",
       "      <td>0</td>\n",
       "      <td>1</td>\n",
       "      <td>0.000000</td>\n",
       "      <td>0.000000</td>\n",
       "      <td>0.000000</td>\n",
       "    </tr>\n",
       "    <tr>\n",
       "      <th>4</th>\n",
       "      <td>20170521</td>\n",
       "      <td>Non Brand | Condition | Geo</td>\n",
       "      <td>asthma symptoms in children</td>\n",
       "      <td>0.00</td>\n",
       "      <td>0.0</td>\n",
       "      <td>0.0</td>\n",
       "      <td>0.0</td>\n",
       "      <td>0.0</td>\n",
       "      <td>0.000000</td>\n",
       "      <td>0.0</td>\n",
       "      <td>1</td>\n",
       "      <td>7</td>\n",
       "      <td>5</td>\n",
       "      <td>2.0</td>\n",
       "      <td>1</td>\n",
       "      <td>0</td>\n",
       "      <td>0</td>\n",
       "      <td>0</td>\n",
       "      <td>1</td>\n",
       "      <td>0.000000</td>\n",
       "      <td>0.000000</td>\n",
       "      <td>0.000000</td>\n",
       "    </tr>\n",
       "  </tbody>\n",
       "</table>\n",
       "</div>"
      ],
      "text/plain": [
       "    DATE_ID                          CAMPAIGN                      KEYWORD  \\\n",
       "0  20170521       Non Brand | Condition | Geo           symptoms of asthma   \n",
       "1  20170521                             Brand              product1 spacer   \n",
       "2  20170521  Non Brand | Treatment | National        how to prevent asthma   \n",
       "3  20170521            Non Brand | Info | Geo           facts about asthma   \n",
       "4  20170521       Non Brand | Condition | Geo  asthma symptoms in children   \n",
       "\n",
       "   _POSITION  CLICKS  CPC  IMPRESSIONS  MEDIA_COST       CTR  Flag  CAMP_ID  \\\n",
       "0       2.08     3.0  1.8         51.0         5.4  0.058824   1.0        1   \n",
       "1       1.00     0.0  0.0          2.0         0.0  0.000000   0.0        2   \n",
       "2       1.48     0.0  0.0          4.0         0.0  0.000000   0.0        3   \n",
       "3       0.00     0.0  0.0          0.0         0.0  0.000000   0.0        4   \n",
       "4       0.00     0.0  0.0          0.0         0.0  0.000000   0.0        1   \n",
       "\n",
       "   week  KW_ID    Q  NETWORK_Bing  NETWORK_Google  NETWORK_Yahoo  \\\n",
       "0     7      1  2.0             0               1              0   \n",
       "1     7      2  2.0             0               1              0   \n",
       "2     7      3  2.0             0               1              0   \n",
       "3     7      4  2.0             1               0              0   \n",
       "4     7      5  2.0             1               0              0   \n",
       "\n",
       "   CAMPAIGN_TYPE_Branded  CAMPAIGN_TYPE_Unbranded    logCTR  logClicks  \\\n",
       "0                      0                        1  0.057158   1.386294   \n",
       "1                      1                        0  0.000000   0.000000   \n",
       "2                      0                        1  0.000000   0.000000   \n",
       "3                      0                        1  0.000000   0.000000   \n",
       "4                      0                        1  0.000000   0.000000   \n",
       "\n",
       "   logImpression  \n",
       "0       3.951244  \n",
       "1       1.098612  \n",
       "2       1.609438  \n",
       "3       0.000000  \n",
       "4       0.000000  "
      ]
     },
     "execution_count": 4,
     "metadata": {},
     "output_type": "execute_result"
    }
   ],
   "source": [
    "#Perfrom log transformation because the CTR and Clicks are clustered to floor and ceiling\n",
    "\n",
    "df['logCTR'] = np.log(df['CTR']+1)\n",
    "df['logClicks'] = np.log(df['CLICKS']+1)\n",
    "df['logImpression'] = np.log(df['IMPRESSIONS']+1)\n",
    "df.head(5)"
   ]
  },
  {
   "cell_type": "code",
   "execution_count": 5,
   "metadata": {},
   "outputs": [
    {
     "data": {
      "text/plain": [
       "False"
      ]
     },
     "execution_count": 5,
     "metadata": {},
     "output_type": "execute_result"
    }
   ],
   "source": [
    "np.isfinite(df.logCTR).all()"
   ]
  },
  {
   "cell_type": "code",
   "execution_count": 6,
   "metadata": {},
   "outputs": [
    {
     "data": {
      "text/plain": [
       "(array([ 81826, 245823], dtype=int64),)"
      ]
     },
     "execution_count": 6,
     "metadata": {},
     "output_type": "execute_result"
    }
   ],
   "source": [
    "np.where(df.logCTR >= np.finfo(np.float64).max)"
   ]
  },
  {
   "cell_type": "code",
   "execution_count": 7,
   "metadata": {},
   "outputs": [
    {
     "name": "stderr",
     "output_type": "stream",
     "text": [
      "C:\\Users\\zjx04\\anaconda3\\lib\\site-packages\\pandas\\core\\indexing.py:670: SettingWithCopyWarning: \n",
      "A value is trying to be set on a copy of a slice from a DataFrame\n",
      "\n",
      "See the caveats in the documentation: https://pandas.pydata.org/pandas-docs/stable/user_guide/indexing.html#returning-a-view-versus-a-copy\n",
      "  self._setitem_with_indexer(indexer, value)\n"
     ]
    }
   ],
   "source": [
    "df[\"logCTR\"].iloc[81826] = 0\n",
    "df[\"logCTR\"].iloc[245823] = 0"
   ]
  },
  {
   "cell_type": "code",
   "execution_count": 24,
   "metadata": {},
   "outputs": [
    {
     "data": {
      "text/plain": [
       "True"
      ]
     },
     "execution_count": 24,
     "metadata": {},
     "output_type": "execute_result"
    }
   ],
   "source": [
    "np.isfinite(df.logClicks).all()"
   ]
  },
  {
   "cell_type": "code",
   "execution_count": 26,
   "metadata": {},
   "outputs": [
    {
     "data": {
      "text/plain": [
       "True"
      ]
     },
     "execution_count": 26,
     "metadata": {},
     "output_type": "execute_result"
    }
   ],
   "source": [
    "np.isfinite(df.logImpression).all()"
   ]
  },
  {
   "cell_type": "markdown",
   "metadata": {},
   "source": [
    "### Regression on log CTR"
   ]
  },
  {
   "cell_type": "code",
   "execution_count": 57,
   "metadata": {},
   "outputs": [],
   "source": [
    "#Remove CPC and keep media_cost\n",
    "X = df.drop(['DATE_ID','CAMPAIGN','KEYWORD','IMPRESSIONS','CTR','Flag','CLICKS','logCTR','logClicks','CPC','logImpression'],\n",
    "            axis=1)\n",
    "Y = df['logCTR'].values"
   ]
  },
  {
   "cell_type": "code",
   "execution_count": 9,
   "metadata": {},
   "outputs": [
    {
     "data": {
      "text/plain": [
       "0"
      ]
     },
     "execution_count": 9,
     "metadata": {},
     "output_type": "execute_result"
    }
   ],
   "source": [
    "X['CAMP_ID'].isnull().sum()"
   ]
  },
  {
   "cell_type": "code",
   "execution_count": 10,
   "metadata": {},
   "outputs": [
    {
     "data": {
      "text/plain": [
       "(True,\n",
       " _POSITION                  True\n",
       " MEDIA_COST                 True\n",
       " CAMP_ID                    True\n",
       " week                       True\n",
       " KW_ID                      True\n",
       " Q                          True\n",
       " NETWORK_Bing               True\n",
       " NETWORK_Google             True\n",
       " NETWORK_Yahoo              True\n",
       " CAMPAIGN_TYPE_Branded      True\n",
       " CAMPAIGN_TYPE_Unbranded    True\n",
       " dtype: bool)"
      ]
     },
     "execution_count": 10,
     "metadata": {},
     "output_type": "execute_result"
    }
   ],
   "source": [
    "np.isfinite(Y).all(), np.isfinite(X).all()"
   ]
  },
  {
   "cell_type": "code",
   "execution_count": 11,
   "metadata": {},
   "outputs": [
    {
     "data": {
      "text/plain": [
       "(False, False)"
      ]
     },
     "execution_count": 11,
     "metadata": {},
     "output_type": "execute_result"
    }
   ],
   "source": [
    "np.any(np.isnan(X)), np.any(np.isnan(Y))"
   ]
  },
  {
   "cell_type": "code",
   "execution_count": 58,
   "metadata": {},
   "outputs": [],
   "source": [
    "x_train, x_test, y_train, y_test = train_test_split(X, Y, test_size = 0.3, random_state=121)"
   ]
  },
  {
   "cell_type": "code",
   "execution_count": 13,
   "metadata": {},
   "outputs": [
    {
     "data": {
      "text/html": [
       "<div>\n",
       "<style scoped>\n",
       "    .dataframe tbody tr th:only-of-type {\n",
       "        vertical-align: middle;\n",
       "    }\n",
       "\n",
       "    .dataframe tbody tr th {\n",
       "        vertical-align: top;\n",
       "    }\n",
       "\n",
       "    .dataframe thead th {\n",
       "        text-align: right;\n",
       "    }\n",
       "</style>\n",
       "<table border=\"1\" class=\"dataframe\">\n",
       "  <thead>\n",
       "    <tr style=\"text-align: right;\">\n",
       "      <th></th>\n",
       "      <th>_POSITION</th>\n",
       "      <th>MEDIA_COST</th>\n",
       "      <th>CAMP_ID</th>\n",
       "      <th>week</th>\n",
       "      <th>KW_ID</th>\n",
       "      <th>Q</th>\n",
       "      <th>NETWORK_Bing</th>\n",
       "      <th>NETWORK_Google</th>\n",
       "      <th>NETWORK_Yahoo</th>\n",
       "      <th>CAMPAIGN_TYPE_Branded</th>\n",
       "      <th>CAMPAIGN_TYPE_Unbranded</th>\n",
       "    </tr>\n",
       "  </thead>\n",
       "  <tbody>\n",
       "    <tr>\n",
       "      <th>121809</th>\n",
       "      <td>8.00</td>\n",
       "      <td>0.00</td>\n",
       "      <td>9</td>\n",
       "      <td>7</td>\n",
       "      <td>70</td>\n",
       "      <td>1.0</td>\n",
       "      <td>1</td>\n",
       "      <td>0</td>\n",
       "      <td>0</td>\n",
       "      <td>0</td>\n",
       "      <td>1</td>\n",
       "    </tr>\n",
       "    <tr>\n",
       "      <th>377912</th>\n",
       "      <td>1.89</td>\n",
       "      <td>21.78</td>\n",
       "      <td>9</td>\n",
       "      <td>4</td>\n",
       "      <td>110</td>\n",
       "      <td>2.0</td>\n",
       "      <td>0</td>\n",
       "      <td>1</td>\n",
       "      <td>0</td>\n",
       "      <td>0</td>\n",
       "      <td>1</td>\n",
       "    </tr>\n",
       "    <tr>\n",
       "      <th>281204</th>\n",
       "      <td>4.72</td>\n",
       "      <td>0.00</td>\n",
       "      <td>6</td>\n",
       "      <td>5</td>\n",
       "      <td>330</td>\n",
       "      <td>3.0</td>\n",
       "      <td>1</td>\n",
       "      <td>0</td>\n",
       "      <td>0</td>\n",
       "      <td>0</td>\n",
       "      <td>1</td>\n",
       "    </tr>\n",
       "    <tr>\n",
       "      <th>64222</th>\n",
       "      <td>4.00</td>\n",
       "      <td>0.00</td>\n",
       "      <td>5</td>\n",
       "      <td>4</td>\n",
       "      <td>1254</td>\n",
       "      <td>1.0</td>\n",
       "      <td>1</td>\n",
       "      <td>0</td>\n",
       "      <td>0</td>\n",
       "      <td>0</td>\n",
       "      <td>1</td>\n",
       "    </tr>\n",
       "    <tr>\n",
       "      <th>45062</th>\n",
       "      <td>4.67</td>\n",
       "      <td>0.00</td>\n",
       "      <td>1</td>\n",
       "      <td>5</td>\n",
       "      <td>658</td>\n",
       "      <td>2.0</td>\n",
       "      <td>0</td>\n",
       "      <td>1</td>\n",
       "      <td>0</td>\n",
       "      <td>0</td>\n",
       "      <td>1</td>\n",
       "    </tr>\n",
       "  </tbody>\n",
       "</table>\n",
       "</div>"
      ],
      "text/plain": [
       "        _POSITION  MEDIA_COST  CAMP_ID  week  KW_ID    Q  NETWORK_Bing  \\\n",
       "121809       8.00        0.00        9     7     70  1.0             1   \n",
       "377912       1.89       21.78        9     4    110  2.0             0   \n",
       "281204       4.72        0.00        6     5    330  3.0             1   \n",
       "64222        4.00        0.00        5     4   1254  1.0             1   \n",
       "45062        4.67        0.00        1     5    658  2.0             0   \n",
       "\n",
       "        NETWORK_Google  NETWORK_Yahoo  CAMPAIGN_TYPE_Branded  \\\n",
       "121809               0              0                      0   \n",
       "377912               1              0                      0   \n",
       "281204               0              0                      0   \n",
       "64222                0              0                      0   \n",
       "45062                1              0                      0   \n",
       "\n",
       "        CAMPAIGN_TYPE_Unbranded  \n",
       "121809                        1  \n",
       "377912                        1  \n",
       "281204                        1  \n",
       "64222                         1  \n",
       "45062                         1  "
      ]
     },
     "execution_count": 13,
     "metadata": {},
     "output_type": "execute_result"
    }
   ],
   "source": [
    "x_train.head()"
   ]
  },
  {
   "cell_type": "markdown",
   "metadata": {},
   "source": [
    "#### Base RF model"
   ]
  },
  {
   "cell_type": "code",
   "execution_count": 13,
   "metadata": {},
   "outputs": [],
   "source": [
    "rf = RandomForestRegressor(n_estimators=400, min_samples_leaf=0.12, random_state=121)\n",
    "rf.fit(x_train, y_train)\n",
    "\n",
    "# Predict the test set labels 'y_pred'\n",
    "y_pred = rf.predict(x_test)\n",
    "y_pred_train = rf.predict(x_train)"
   ]
  },
  {
   "cell_type": "code",
   "execution_count": 30,
   "metadata": {},
   "outputs": [],
   "source": [
    "def RMSE(x,y): \n",
    "    return np.mean((x - y)**2)**0.5"
   ]
  },
  {
   "cell_type": "code",
   "execution_count": 15,
   "metadata": {},
   "outputs": [
    {
     "name": "stdout",
     "output_type": "stream",
     "text": [
      "Test set RMSE of rf: 0.10\n",
      "Train set RMSE of rf: 0.10\n"
     ]
    }
   ],
   "source": [
    "# Evaluate the test set RMSE\n",
    "rmse_test = RMSE(y_test, y_pred)\n",
    "rmse_train = RMSE(y_train, y_pred_train)\n",
    "\n",
    "# Print the test set RMSE\n",
    "print('Test set RMSE of rf: {:.2f}'.format(rmse_test))\n",
    "print('Train set RMSE of rf: {:.2f}'.format(rmse_train))"
   ]
  },
  {
   "cell_type": "code",
   "execution_count": 16,
   "metadata": {},
   "outputs": [],
   "source": [
    "r2_train = np.corrcoef(y_train, y_pred_train)**2\n",
    "r2_test = np.corrcoef(y_test, y_pred)**2"
   ]
  },
  {
   "cell_type": "code",
   "execution_count": 17,
   "metadata": {},
   "outputs": [
    {
     "data": {
      "text/plain": [
       "(array([[1.        , 0.45606091],\n",
       "        [0.45606091, 1.        ]]),\n",
       " array([[1.        , 0.45646849],\n",
       "        [0.45646849, 1.        ]]))"
      ]
     },
     "execution_count": 17,
     "metadata": {},
     "output_type": "execute_result"
    }
   ],
   "source": [
    "r2_train, r2_test"
   ]
  },
  {
   "cell_type": "code",
   "execution_count": 18,
   "metadata": {},
   "outputs": [
    {
     "data": {
      "image/png": "[encoded data removed]",
      "text/plain": [
       "<Figure size 432x288 with 1 Axes>"
      ]
     },
     "metadata": {
      "needs_background": "light"
     },
     "output_type": "display_data"
    }
   ],
   "source": [
    "import pandas as pd\n",
    "import matplotlib.pyplot as plt\n",
    "# Create a pd.Series of features importances\n",
    "importances_rf = pd.Series(rf.feature_importances_, index = X.columns)\n",
    "# Sort importances_rf\n",
    "sorted_importances_rf = importances_rf.sort_values()\n",
    "# Make a horizontal bar plot\n",
    "sorted_importances_rf.plot(kind='barh', color='blue')\n",
    "plt.show()"
   ]
  },
  {
   "cell_type": "code",
   "execution_count": 19,
   "metadata": {},
   "outputs": [
    {
     "data": {
      "text/plain": [
       "<bound method BaseEstimator.get_params of RandomForestRegressor(min_samples_leaf=0.12, n_estimators=400, random_state=121)>"
      ]
     },
     "execution_count": 19,
     "metadata": {},
     "output_type": "execute_result"
    }
   ],
   "source": [
    "rf.get_params"
   ]
  },
  {
   "cell_type": "markdown",
   "metadata": {},
   "source": [
    "#### Randomize Search RF"
   ]
  },
  {
   "cell_type": "code",
   "execution_count": 20,
   "metadata": {},
   "outputs": [],
   "source": [
    "param_grid = {'max_features': ['auto', 'sqrt'],\n",
    "              'min_samples_leaf': [0.08, 0.10, 0.12],\n",
    "              'n_estimators': [300,400,500]}"
   ]
  },
  {
   "cell_type": "code",
   "execution_count": 22,
   "metadata": {},
   "outputs": [],
   "source": [
    "rf0 = RandomForestRegressor(random_state=12, oob_score = True, max_features=6)"
   ]
  },
  {
   "cell_type": "code",
   "execution_count": 23,
   "metadata": {},
   "outputs": [],
   "source": [
    "from sklearn.model_selection import RandomizedSearchCV\n",
    "rf_random = RandomizedSearchCV(estimator = rf0, param_distributions = param_grid, scoring = \"r2\",\n",
    "                               n_iter = 10, cv = 3, verbose = 1, n_jobs = -1)"
   ]
  },
  {
   "cell_type": "code",
   "execution_count": 25,
   "metadata": {},
   "outputs": [
    {
     "name": "stdout",
     "output_type": "stream",
     "text": [
      "Fitting 3 folds for each of 10 candidates, totalling 30 fits\n"
     ]
    },
    {
     "name": "stderr",
     "output_type": "stream",
     "text": [
      "[Parallel(n_jobs=-1)]: Using backend LokyBackend with 4 concurrent workers.\n",
      "[Parallel(n_jobs=-1)]: Done  30 out of  30 | elapsed: 15.2min finished\n"
     ]
    },
    {
     "data": {
      "text/plain": [
       "RandomizedSearchCV(cv=3,\n",
       "                   estimator=RandomForestRegressor(max_features=6,\n",
       "                                                   oob_score=True,\n",
       "                                                   random_state=12),\n",
       "                   n_jobs=-1,\n",
       "                   param_distributions={'max_features': ['auto', 'sqrt'],\n",
       "                                        'min_samples_leaf': [0.08, 0.1, 0.12],\n",
       "                                        'n_estimators': [300, 400, 500]},\n",
       "                   scoring='r2', verbose=1)"
      ]
     },
     "execution_count": 25,
     "metadata": {},
     "output_type": "execute_result"
    }
   ],
   "source": [
    "rf_random.fit(x_train, y_train)"
   ]
  },
  {
   "cell_type": "code",
   "execution_count": 26,
   "metadata": {},
   "outputs": [
    {
     "name": "stdout",
     "output_type": "stream",
     "text": [
      "train RMSE = 0.09768743095114177\n"
     ]
    }
   ],
   "source": [
    "print('train RMSE =', RMSE(y_test, rf_random.best_estimator_.predict(x_test)))"
   ]
  },
  {
   "cell_type": "code",
   "execution_count": 27,
   "metadata": {},
   "outputs": [
    {
     "data": {
      "text/plain": [
       "{'n_estimators': 400, 'min_samples_leaf': 0.1, 'max_features': 'auto'}"
      ]
     },
     "execution_count": 27,
     "metadata": {},
     "output_type": "execute_result"
    }
   ],
   "source": [
    "rf_random.best_params_"
   ]
  },
  {
   "cell_type": "code",
   "execution_count": 28,
   "metadata": {},
   "outputs": [
    {
     "name": "stdout",
     "output_type": "stream",
     "text": [
      "r2_train [[1.         0.45606091]\n",
      " [0.45606091 1.        ]]\n",
      "r2_test [[1.         0.45646849]\n",
      " [0.45646849 1.        ]]\n"
     ]
    }
   ],
   "source": [
    "print(\"r2_train\", np.corrcoef(y_train, rf_random.best_estimator_.predict(x_train))**2)\n",
    "print(\"r2_test\", np.corrcoef(y_test, rf_random.best_estimator_.predict(x_test))**2)"
   ]
  },
  {
   "cell_type": "markdown",
   "metadata": {},
   "source": [
    "#### Base XGboost model"
   ]
  },
  {
   "cell_type": "code",
   "execution_count": 29,
   "metadata": {},
   "outputs": [],
   "source": [
    "param = {'objective': 'reg:squarederror'}"
   ]
  },
  {
   "cell_type": "code",
   "execution_count": 30,
   "metadata": {},
   "outputs": [],
   "source": [
    "dtrain = xgb.DMatrix(x_train, label=y_train)"
   ]
  },
  {
   "cell_type": "code",
   "execution_count": 31,
   "metadata": {},
   "outputs": [
    {
     "name": "stdout",
     "output_type": "stream",
     "text": [
      "[0]\ttrain-rmse:0.33666+0.00005\ttest-rmse:0.33666+0.00014\n",
      "[10]\ttrain-rmse:0.06682+0.00011\ttest-rmse:0.06768+0.00036\n",
      "[20]\ttrain-rmse:0.06394+0.00021\ttest-rmse:0.06551+0.00029\n",
      "[30]\ttrain-rmse:0.06196+0.00007\ttest-rmse:0.06431+0.00039\n",
      "[40]\ttrain-rmse:0.06069+0.00013\ttest-rmse:0.06370+0.00033\n",
      "[49]\ttrain-rmse:0.05968+0.00007\ttest-rmse:0.06329+0.00044\n"
     ]
    },
    {
     "data": {
      "text/html": [
       "<div>\n",
       "<style scoped>\n",
       "    .dataframe tbody tr th:only-of-type {\n",
       "        vertical-align: middle;\n",
       "    }\n",
       "\n",
       "    .dataframe tbody tr th {\n",
       "        vertical-align: top;\n",
       "    }\n",
       "\n",
       "    .dataframe thead th {\n",
       "        text-align: right;\n",
       "    }\n",
       "</style>\n",
       "<table border=\"1\" class=\"dataframe\">\n",
       "  <thead>\n",
       "    <tr style=\"text-align: right;\">\n",
       "      <th></th>\n",
       "      <th>train-rmse-mean</th>\n",
       "      <th>train-rmse-std</th>\n",
       "      <th>test-rmse-mean</th>\n",
       "      <th>test-rmse-std</th>\n",
       "    </tr>\n",
       "  </thead>\n",
       "  <tbody>\n",
       "    <tr>\n",
       "      <th>40</th>\n",
       "      <td>0.060691</td>\n",
       "      <td>0.000128</td>\n",
       "      <td>0.063697</td>\n",
       "      <td>0.000327</td>\n",
       "    </tr>\n",
       "    <tr>\n",
       "      <th>41</th>\n",
       "      <td>0.060554</td>\n",
       "      <td>0.000076</td>\n",
       "      <td>0.063644</td>\n",
       "      <td>0.000385</td>\n",
       "    </tr>\n",
       "    <tr>\n",
       "      <th>42</th>\n",
       "      <td>0.060454</td>\n",
       "      <td>0.000060</td>\n",
       "      <td>0.063615</td>\n",
       "      <td>0.000387</td>\n",
       "    </tr>\n",
       "    <tr>\n",
       "      <th>43</th>\n",
       "      <td>0.060334</td>\n",
       "      <td>0.000058</td>\n",
       "      <td>0.063586</td>\n",
       "      <td>0.000417</td>\n",
       "    </tr>\n",
       "    <tr>\n",
       "      <th>44</th>\n",
       "      <td>0.060262</td>\n",
       "      <td>0.000052</td>\n",
       "      <td>0.063550</td>\n",
       "      <td>0.000398</td>\n",
       "    </tr>\n",
       "    <tr>\n",
       "      <th>45</th>\n",
       "      <td>0.060140</td>\n",
       "      <td>0.000009</td>\n",
       "      <td>0.063508</td>\n",
       "      <td>0.000372</td>\n",
       "    </tr>\n",
       "    <tr>\n",
       "      <th>46</th>\n",
       "      <td>0.059946</td>\n",
       "      <td>0.000095</td>\n",
       "      <td>0.063369</td>\n",
       "      <td>0.000403</td>\n",
       "    </tr>\n",
       "    <tr>\n",
       "      <th>47</th>\n",
       "      <td>0.059874</td>\n",
       "      <td>0.000065</td>\n",
       "      <td>0.063364</td>\n",
       "      <td>0.000409</td>\n",
       "    </tr>\n",
       "    <tr>\n",
       "      <th>48</th>\n",
       "      <td>0.059732</td>\n",
       "      <td>0.000083</td>\n",
       "      <td>0.063293</td>\n",
       "      <td>0.000441</td>\n",
       "    </tr>\n",
       "    <tr>\n",
       "      <th>49</th>\n",
       "      <td>0.059682</td>\n",
       "      <td>0.000070</td>\n",
       "      <td>0.063292</td>\n",
       "      <td>0.000445</td>\n",
       "    </tr>\n",
       "  </tbody>\n",
       "</table>\n",
       "</div>"
      ],
      "text/plain": [
       "    train-rmse-mean  train-rmse-std  test-rmse-mean  test-rmse-std\n",
       "40         0.060691        0.000128        0.063697       0.000327\n",
       "41         0.060554        0.000076        0.063644       0.000385\n",
       "42         0.060454        0.000060        0.063615       0.000387\n",
       "43         0.060334        0.000058        0.063586       0.000417\n",
       "44         0.060262        0.000052        0.063550       0.000398\n",
       "45         0.060140        0.000009        0.063508       0.000372\n",
       "46         0.059946        0.000095        0.063369       0.000403\n",
       "47         0.059874        0.000065        0.063364       0.000409\n",
       "48         0.059732        0.000083        0.063293       0.000441\n",
       "49         0.059682        0.000070        0.063292       0.000445"
      ]
     },
     "execution_count": 31,
     "metadata": {},
     "output_type": "execute_result"
    }
   ],
   "source": [
    "cvSearch = xgb.cv(param, dtrain, nfold = 3, num_boost_round = 50, verbose_eval = 10)\n",
    "cvSearch.tail(10)"
   ]
  },
  {
   "cell_type": "code",
   "execution_count": 32,
   "metadata": {},
   "outputs": [
    {
     "name": "stdout",
     "output_type": "stream",
     "text": [
      "best number of rounds = 48\n",
      "rmse = 0.06329266666666666\n"
     ]
    },
    {
     "data": {
      "image/png": "[encoded data removed]",
      "text/plain": [
       "<Figure size 432x288 with 1 Axes>"
      ]
     },
     "metadata": {
      "needs_background": "light"
     },
     "output_type": "display_data"
    }
   ],
   "source": [
    "eps = 1e-6\n",
    "bestNR = np.argmax(cvSearch['test-rmse-mean']<eps+min(cvSearch['test-rmse-mean']))\n",
    "bestRMSE = cvSearch.loc[bestNR,'test-rmse-mean']\n",
    "plt.plot(cvSearch['test-rmse-mean'])\n",
    "print('best number of rounds =',bestNR)\n",
    "print('rmse =',bestRMSE) \n",
    "#using bestNR"
   ]
  },
  {
   "cell_type": "code",
   "execution_count": 33,
   "metadata": {},
   "outputs": [
    {
     "name": "stdout",
     "output_type": "stream",
     "text": [
      "0.06271435742223949\n"
     ]
    }
   ],
   "source": [
    "modelSearch = xgb.train(param, dtrain, num_boost_round = bestNR)\n",
    "print(RMSE(y_test, modelSearch.predict(xgb.DMatrix(x_test))))"
   ]
  },
  {
   "cell_type": "code",
   "execution_count": 34,
   "metadata": {},
   "outputs": [
    {
     "data": {
      "text/plain": [
       "XGBRegressor(base_score=0.5, booster='gbtree', colsample_bylevel=1,\n",
       "             colsample_bynode=1, colsample_bytree=1, gamma=0, gpu_id=-1,\n",
       "             importance_type='gain', interaction_constraints='',\n",
       "             learning_rate=0.300000012, max_delta_step=0, max_depth=6,\n",
       "             min_child_weight=1, missing=nan, monotone_constraints='()',\n",
       "             n_estimators=48, n_jobs=0, num_parallel_tree=1, random_state=0,\n",
       "             reg_alpha=0, reg_lambda=1, scale_pos_weight=1, subsample=1,\n",
       "             tree_method='exact', validate_parameters=1, verbosity=None)"
      ]
     },
     "execution_count": 34,
     "metadata": {},
     "output_type": "execute_result"
    }
   ],
   "source": [
    "regSearch = XGBRegressor(objective='reg:squarederror', n_estimators=bestNR)\n",
    "regSearch.fit(x_train, y_train)"
   ]
  },
  {
   "cell_type": "code",
   "execution_count": 35,
   "metadata": {},
   "outputs": [
    {
     "name": "stdout",
     "output_type": "stream",
     "text": [
      "0.06271435742223949\n"
     ]
    }
   ],
   "source": [
    "print(RMSE(y_test, regSearch.predict(x_test)))"
   ]
  },
  {
   "cell_type": "code",
   "execution_count": 36,
   "metadata": {},
   "outputs": [
    {
     "name": "stdout",
     "output_type": "stream",
     "text": [
      "r2_train [[1.         0.79361676]\n",
      " [0.79361676 1.        ]]\n",
      "r2_test [[1.         0.77661132]\n",
      " [0.77661132 1.        ]]\n"
     ]
    }
   ],
   "source": [
    "print(\"r2_train\", np.corrcoef(y_train, regSearch.predict(x_train))**2)\n",
    "print(\"r2_test\", np.corrcoef(y_test, regSearch.predict(x_test))**2)"
   ]
  },
  {
   "cell_type": "code",
   "execution_count": 37,
   "metadata": {},
   "outputs": [
    {
     "name": "stdout",
     "output_type": "stream",
     "text": [
      "0.06164485815582831\n"
     ]
    }
   ],
   "source": [
    "regSearch1 = XGBRegressor(objective='reg:squarederror', n_estimators=bestNR, max_depth=6, learning_rate=0.5)\n",
    "regSearch1.fit(x_train, y_train)\n",
    "print(RMSE(y_test, regSearch1.predict(x_test)))"
   ]
  },
  {
   "cell_type": "code",
   "execution_count": 38,
   "metadata": {},
   "outputs": [
    {
     "name": "stdout",
     "output_type": "stream",
     "text": [
      "r2_train [[1.         0.80725787]\n",
      " [0.80725787 1.        ]]\n",
      "r2_test [[1.         0.78375905]\n",
      " [0.78375905 1.        ]]\n"
     ]
    }
   ],
   "source": [
    "print(\"r2_train\", np.corrcoef(y_train, regSearch1.predict(x_train))**2)\n",
    "print(\"r2_test\", np.corrcoef(y_test, regSearch1.predict(x_test))**2)"
   ]
  },
  {
   "cell_type": "markdown",
   "metadata": {},
   "source": [
    "#### Randomize Search XGboost"
   ]
  },
  {
   "cell_type": "code",
   "execution_count": 59,
   "metadata": {},
   "outputs": [],
   "source": [
    "param_grid = {\n",
    "    'learning_rate': [0.3, 0.5, 0.7],\n",
    "    'max_depth': [4,5,6],\n",
    "    'n_estimators': [50, 75, 100]\n",
    "}"
   ]
  },
  {
   "cell_type": "code",
   "execution_count": 60,
   "metadata": {},
   "outputs": [
    {
     "data": {
      "text/plain": [
       "RandomizedSearchCV(cv=3,\n",
       "                   estimator=XGBRegressor(base_score=None, booster=None,\n",
       "                                          colsample_bylevel=None,\n",
       "                                          colsample_bynode=None,\n",
       "                                          colsample_bytree=None, gamma=None,\n",
       "                                          gpu_id=None, importance_type='gain',\n",
       "                                          interaction_constraints=None,\n",
       "                                          learning_rate=None,\n",
       "                                          max_delta_step=None, max_depth=None,\n",
       "                                          min_child_weight=None, missing=nan,\n",
       "                                          monotone_constraints=None,\n",
       "                                          n_estimators=100, n_jobs=None,\n",
       "                                          num_parallel_tree=None,\n",
       "                                          random_state=None, reg_alpha=None,\n",
       "                                          reg_lambda=None,\n",
       "                                          scale_pos_weight=None, seed=122,\n",
       "                                          subsample=None, tree_method=None,\n",
       "                                          validate_parameters=None,\n",
       "                                          verbosity=None),\n",
       "                   n_jobs=-1,\n",
       "                   param_distributions={'learning_rate': [0.3, 0.5, 0.7],\n",
       "                                        'max_depth': [4, 5, 6],\n",
       "                                        'n_estimators': [50, 75, 100]},\n",
       "                   scoring='r2')"
      ]
     },
     "execution_count": 60,
     "metadata": {},
     "output_type": "execute_result"
    }
   ],
   "source": [
    "grid = RandomizedSearchCV(estimator = XGBRegressor(objective= 'reg:squarederror', seed=122), scoring = 'r2',\n",
    "                          param_distributions = param_grid, n_jobs=-1, cv=3)\n",
    "\n",
    "grid.fit(x_train, y_train)"
   ]
  },
  {
   "cell_type": "code",
   "execution_count": 61,
   "metadata": {},
   "outputs": [
    {
     "data": {
      "text/plain": [
       "{'n_estimators': 100, 'max_depth': 6, 'learning_rate': 0.3}"
      ]
     },
     "execution_count": 61,
     "metadata": {},
     "output_type": "execute_result"
    }
   ],
   "source": [
    "grid.best_params_"
   ]
  },
  {
   "cell_type": "code",
   "execution_count": 62,
   "metadata": {},
   "outputs": [
    {
     "name": "stdout",
     "output_type": "stream",
     "text": [
      "0.06107584786165932\n"
     ]
    }
   ],
   "source": [
    "print(RMSE(y_test, grid.best_estimator_.predict(x_test)))"
   ]
  },
  {
   "cell_type": "code",
   "execution_count": 63,
   "metadata": {},
   "outputs": [
    {
     "name": "stdout",
     "output_type": "stream",
     "text": [
      "r2_train [[1.         0.81868729]\n",
      " [0.81868729 1.        ]]\n",
      "r2_test [[1.         0.78788367]\n",
      " [0.78788367 1.        ]]\n"
     ]
    }
   ],
   "source": [
    "print(\"r2_train\", np.corrcoef(y_train, grid.best_estimator_.predict(x_train))**2)\n",
    "print(\"r2_test\", np.corrcoef(y_test, grid.best_estimator_.predict(x_test))**2)"
   ]
  },
  {
   "cell_type": "markdown",
   "metadata": {},
   "source": [
    "#### k-fold cv search XGboost"
   ]
  },
  {
   "cell_type": "code",
   "execution_count": 14,
   "metadata": {},
   "outputs": [
    {
     "name": "stderr",
     "output_type": "stream",
     "text": [
      "C:\\Users\\zjx04\\anaconda3\\lib\\site-packages\\sklearn\\model_selection\\_split.py:297: FutureWarning: Setting a random_state has no effect since shuffle is False. This will raise an error in 0.24. You should leave random_state to its default (None), or set shuffle=True.\n",
      "  FutureWarning\n"
     ]
    },
    {
     "name": "stdout",
     "output_type": "stream",
     "text": [
      "Accuracy: 77.24% (2.25%)\n"
     ]
    }
   ],
   "source": [
    "# k-fold cross validation evaluation of xgboost model\n",
    "from sklearn.model_selection import KFold\n",
    "from sklearn.model_selection import cross_val_score\n",
    "\n",
    "model = xgb.XGBRegressor()\n",
    "kfold = KFold(n_splits=10, random_state=27)\n",
    "results = cross_val_score(model, X, Y, cv=kfold)\n",
    "print(\"Accuracy: %.2f%% (%.2f%%)\" % (results.mean()*100, results.std()*100))"
   ]
  },
  {
   "cell_type": "code",
   "execution_count": 18,
   "metadata": {},
   "outputs": [],
   "source": [
    "# best parameters dict\n",
    "params = {'colsample_bytree': 1.0, \n",
    "          'eta': 0.01,\n",
    "          'eval_metric': 'rmse',\n",
    "          'max_depth': 10,\n",
    "          'min_child_weight': 5,\n",
    "          'objective': 'reg:squarederror',\n",
    "          'subsample': 1.0}"
   ]
  },
  {
   "cell_type": "code",
   "execution_count": 16,
   "metadata": {},
   "outputs": [],
   "source": [
    "dtrain = xgb.DMatrix(x_train, label=y_train)\n",
    "dtest = xgb.DMatrix(x_test, label=y_test)"
   ]
  },
  {
   "cell_type": "code",
   "execution_count": 19,
   "metadata": {},
   "outputs": [
    {
     "name": "stdout",
     "output_type": "stream",
     "text": [
      "[0]\tTest-rmse:0.47025\n",
      "Will train until Test-rmse hasn't improved in 10 rounds.\n",
      "[1]\tTest-rmse:0.46564\n",
      "[2]\tTest-rmse:0.46101\n",
      "[3]\tTest-rmse:0.45643\n",
      "[4]\tTest-rmse:0.45202\n",
      "[5]\tTest-rmse:0.44766\n",
      "[6]\tTest-rmse:0.44329\n",
      "[7]\tTest-rmse:0.43891\n",
      "[8]\tTest-rmse:0.43458\n",
      "[9]\tTest-rmse:0.43043\n",
      "[10]\tTest-rmse:0.42608\n",
      "[11]\tTest-rmse:0.42197\n",
      "[12]\tTest-rmse:0.41786\n",
      "[13]\tTest-rmse:0.41374\n",
      "[14]\tTest-rmse:0.40977\n",
      "[15]\tTest-rmse:0.40571\n",
      "[16]\tTest-rmse:0.40187\n",
      "[17]\tTest-rmse:0.39795\n",
      "[18]\tTest-rmse:0.39397\n",
      "[19]\tTest-rmse:0.39026\n",
      "[20]\tTest-rmse:0.38641\n",
      "[21]\tTest-rmse:0.38264\n",
      "[22]\tTest-rmse:0.37889\n",
      "[23]\tTest-rmse:0.37523\n",
      "[24]\tTest-rmse:0.37169\n",
      "[25]\tTest-rmse:0.36803\n",
      "[26]\tTest-rmse:0.36447\n",
      "[27]\tTest-rmse:0.36094\n",
      "[28]\tTest-rmse:0.35748\n",
      "[29]\tTest-rmse:0.35395\n",
      "[30]\tTest-rmse:0.35056\n",
      "[31]\tTest-rmse:0.34714\n",
      "[32]\tTest-rmse:0.34391\n",
      "[33]\tTest-rmse:0.34053\n",
      "[34]\tTest-rmse:0.33726\n",
      "[35]\tTest-rmse:0.33404\n",
      "[36]\tTest-rmse:0.33083\n",
      "[37]\tTest-rmse:0.32758\n",
      "[38]\tTest-rmse:0.32451\n",
      "[39]\tTest-rmse:0.32132\n",
      "[40]\tTest-rmse:0.31823\n",
      "[41]\tTest-rmse:0.31516\n",
      "[42]\tTest-rmse:0.31214\n",
      "[43]\tTest-rmse:0.30923\n",
      "[44]\tTest-rmse:0.30620\n",
      "[45]\tTest-rmse:0.30328\n",
      "[46]\tTest-rmse:0.30041\n",
      "[47]\tTest-rmse:0.29752\n",
      "[48]\tTest-rmse:0.29469\n",
      "[49]\tTest-rmse:0.29196\n",
      "[50]\tTest-rmse:0.28912\n",
      "[51]\tTest-rmse:0.28639\n",
      "[52]\tTest-rmse:0.28372\n",
      "[53]\tTest-rmse:0.28103\n",
      "[54]\tTest-rmse:0.27835\n",
      "[55]\tTest-rmse:0.27566\n",
      "[56]\tTest-rmse:0.27313\n",
      "[57]\tTest-rmse:0.27050\n",
      "[58]\tTest-rmse:0.26802\n",
      "[59]\tTest-rmse:0.26547\n",
      "[60]\tTest-rmse:0.26293\n",
      "[61]\tTest-rmse:0.26045\n",
      "[62]\tTest-rmse:0.25805\n",
      "[63]\tTest-rmse:0.25565\n",
      "[64]\tTest-rmse:0.25325\n",
      "[65]\tTest-rmse:0.25083\n",
      "[66]\tTest-rmse:0.24852\n",
      "[67]\tTest-rmse:0.24619\n",
      "[68]\tTest-rmse:0.24393\n",
      "[69]\tTest-rmse:0.24169\n",
      "[70]\tTest-rmse:0.23944\n",
      "[71]\tTest-rmse:0.23719\n",
      "[72]\tTest-rmse:0.23496\n",
      "[73]\tTest-rmse:0.23285\n",
      "[74]\tTest-rmse:0.23070\n",
      "[75]\tTest-rmse:0.22858\n",
      "[76]\tTest-rmse:0.22646\n",
      "[77]\tTest-rmse:0.22435\n",
      "[78]\tTest-rmse:0.22234\n",
      "[79]\tTest-rmse:0.22023\n",
      "[80]\tTest-rmse:0.21824\n",
      "[81]\tTest-rmse:0.21624\n",
      "[82]\tTest-rmse:0.21425\n",
      "[83]\tTest-rmse:0.21238\n",
      "[84]\tTest-rmse:0.21041\n",
      "[85]\tTest-rmse:0.20852\n",
      "[86]\tTest-rmse:0.20659\n",
      "[87]\tTest-rmse:0.20474\n",
      "[88]\tTest-rmse:0.20288\n",
      "[89]\tTest-rmse:0.20103\n",
      "[90]\tTest-rmse:0.19929\n",
      "[91]\tTest-rmse:0.19748\n",
      "[92]\tTest-rmse:0.19573\n",
      "[93]\tTest-rmse:0.19398\n",
      "[94]\tTest-rmse:0.19223\n",
      "[95]\tTest-rmse:0.19053\n",
      "[96]\tTest-rmse:0.18882\n",
      "[97]\tTest-rmse:0.18718\n",
      "[98]\tTest-rmse:0.18553\n",
      "[99]\tTest-rmse:0.18389\n",
      "[100]\tTest-rmse:0.18229\n",
      "[101]\tTest-rmse:0.18068\n",
      "[102]\tTest-rmse:0.17910\n",
      "[103]\tTest-rmse:0.17751\n",
      "[104]\tTest-rmse:0.17597\n",
      "[105]\tTest-rmse:0.17443\n",
      "[106]\tTest-rmse:0.17297\n",
      "[107]\tTest-rmse:0.17145\n",
      "[108]\tTest-rmse:0.16999\n",
      "[109]\tTest-rmse:0.16854\n",
      "[110]\tTest-rmse:0.16709\n",
      "[111]\tTest-rmse:0.16564\n",
      "[112]\tTest-rmse:0.16427\n",
      "[113]\tTest-rmse:0.16283\n",
      "[114]\tTest-rmse:0.16148\n",
      "[115]\tTest-rmse:0.16013\n",
      "[116]\tTest-rmse:0.15877\n",
      "[117]\tTest-rmse:0.15742\n",
      "[118]\tTest-rmse:0.15614\n",
      "[119]\tTest-rmse:0.15481\n",
      "[120]\tTest-rmse:0.15356\n",
      "[121]\tTest-rmse:0.15229\n",
      "[122]\tTest-rmse:0.15103\n",
      "[123]\tTest-rmse:0.14980\n",
      "[124]\tTest-rmse:0.14855\n",
      "[125]\tTest-rmse:0.14732\n",
      "[126]\tTest-rmse:0.14615\n",
      "[127]\tTest-rmse:0.14497\n",
      "[128]\tTest-rmse:0.14377\n",
      "[129]\tTest-rmse:0.14262\n",
      "[130]\tTest-rmse:0.14148\n",
      "[131]\tTest-rmse:0.14034\n",
      "[132]\tTest-rmse:0.13924\n",
      "[133]\tTest-rmse:0.13813\n",
      "[134]\tTest-rmse:0.13706\n",
      "[135]\tTest-rmse:0.13596\n",
      "[136]\tTest-rmse:0.13493\n",
      "[137]\tTest-rmse:0.13387\n",
      "[138]\tTest-rmse:0.13284\n",
      "[139]\tTest-rmse:0.13181\n",
      "[140]\tTest-rmse:0.13079\n",
      "[141]\tTest-rmse:0.12981\n",
      "[142]\tTest-rmse:0.12883\n",
      "[143]\tTest-rmse:0.12784\n",
      "[144]\tTest-rmse:0.12687\n",
      "[145]\tTest-rmse:0.12592\n",
      "[146]\tTest-rmse:0.12500\n",
      "[147]\tTest-rmse:0.12406\n",
      "[148]\tTest-rmse:0.12316\n",
      "[149]\tTest-rmse:0.12226\n",
      "[150]\tTest-rmse:0.12137\n",
      "[151]\tTest-rmse:0.12047\n",
      "[152]\tTest-rmse:0.11959\n",
      "[153]\tTest-rmse:0.11876\n",
      "[154]\tTest-rmse:0.11788\n",
      "[155]\tTest-rmse:0.11704\n",
      "[156]\tTest-rmse:0.11622\n",
      "[157]\tTest-rmse:0.11539\n",
      "[158]\tTest-rmse:0.11459\n",
      "[159]\tTest-rmse:0.11382\n",
      "[160]\tTest-rmse:0.11300\n",
      "[161]\tTest-rmse:0.11225\n",
      "[162]\tTest-rmse:0.11146\n",
      "[163]\tTest-rmse:0.11071\n",
      "[164]\tTest-rmse:0.10995\n",
      "[165]\tTest-rmse:0.10922\n",
      "[166]\tTest-rmse:0.10853\n",
      "[167]\tTest-rmse:0.10780\n",
      "[168]\tTest-rmse:0.10708\n",
      "[169]\tTest-rmse:0.10640\n",
      "[170]\tTest-rmse:0.10568\n",
      "[171]\tTest-rmse:0.10500\n",
      "[172]\tTest-rmse:0.10434\n",
      "[173]\tTest-rmse:0.10368\n",
      "[174]\tTest-rmse:0.10302\n",
      "[175]\tTest-rmse:0.10238\n",
      "[176]\tTest-rmse:0.10176\n",
      "[177]\tTest-rmse:0.10112\n",
      "[178]\tTest-rmse:0.10049\n",
      "[179]\tTest-rmse:0.09989\n",
      "[180]\tTest-rmse:0.09926\n",
      "[181]\tTest-rmse:0.09866\n",
      "[182]\tTest-rmse:0.09809\n",
      "[183]\tTest-rmse:0.09752\n",
      "[184]\tTest-rmse:0.09695\n",
      "[185]\tTest-rmse:0.09638\n",
      "[186]\tTest-rmse:0.09581\n",
      "[187]\tTest-rmse:0.09524\n",
      "[188]\tTest-rmse:0.09470\n",
      "[189]\tTest-rmse:0.09419\n",
      "[190]\tTest-rmse:0.09365\n",
      "[191]\tTest-rmse:0.09312\n",
      "[192]\tTest-rmse:0.09261\n",
      "[193]\tTest-rmse:0.09211\n",
      "[194]\tTest-rmse:0.09161\n",
      "[195]\tTest-rmse:0.09111\n",
      "[196]\tTest-rmse:0.09061\n",
      "[197]\tTest-rmse:0.09014\n",
      "[198]\tTest-rmse:0.08967\n",
      "[199]\tTest-rmse:0.08921\n",
      "[200]\tTest-rmse:0.08875\n",
      "[201]\tTest-rmse:0.08832\n",
      "[202]\tTest-rmse:0.08786\n",
      "[203]\tTest-rmse:0.08742\n",
      "[204]\tTest-rmse:0.08700\n",
      "[205]\tTest-rmse:0.08659\n",
      "[206]\tTest-rmse:0.08618\n",
      "[207]\tTest-rmse:0.08573\n",
      "[208]\tTest-rmse:0.08536\n",
      "[209]\tTest-rmse:0.08496\n",
      "[210]\tTest-rmse:0.08456\n",
      "[211]\tTest-rmse:0.08416\n",
      "[212]\tTest-rmse:0.08380\n",
      "[213]\tTest-rmse:0.08341\n",
      "[214]\tTest-rmse:0.08305\n",
      "[215]\tTest-rmse:0.08267\n",
      "[216]\tTest-rmse:0.08231\n",
      "[217]\tTest-rmse:0.08196\n",
      "[218]\tTest-rmse:0.08161\n",
      "[219]\tTest-rmse:0.08127\n",
      "[220]\tTest-rmse:0.08093\n",
      "[221]\tTest-rmse:0.08059\n",
      "[222]\tTest-rmse:0.08026\n",
      "[223]\tTest-rmse:0.07995\n",
      "[224]\tTest-rmse:0.07963\n",
      "[225]\tTest-rmse:0.07930\n",
      "[226]\tTest-rmse:0.07900\n",
      "[227]\tTest-rmse:0.07871\n",
      "[228]\tTest-rmse:0.07839\n",
      "[229]\tTest-rmse:0.07811\n",
      "[230]\tTest-rmse:0.07783\n",
      "[231]\tTest-rmse:0.07755\n",
      "[232]\tTest-rmse:0.07727\n",
      "[233]\tTest-rmse:0.07700\n",
      "[234]\tTest-rmse:0.07672\n",
      "[235]\tTest-rmse:0.07645\n",
      "[236]\tTest-rmse:0.07619\n",
      "[237]\tTest-rmse:0.07592\n",
      "[238]\tTest-rmse:0.07566\n",
      "[239]\tTest-rmse:0.07543\n",
      "[240]\tTest-rmse:0.07517\n",
      "[241]\tTest-rmse:0.07492\n",
      "[242]\tTest-rmse:0.07470\n",
      "[243]\tTest-rmse:0.07444\n",
      "[244]\tTest-rmse:0.07422\n",
      "[245]\tTest-rmse:0.07400\n",
      "[246]\tTest-rmse:0.07377\n",
      "[247]\tTest-rmse:0.07355\n",
      "[248]\tTest-rmse:0.07335\n",
      "[249]\tTest-rmse:0.07313\n",
      "[250]\tTest-rmse:0.07293\n",
      "[251]\tTest-rmse:0.07270\n",
      "[252]\tTest-rmse:0.07250\n",
      "[253]\tTest-rmse:0.07230\n",
      "[254]\tTest-rmse:0.07211\n",
      "[255]\tTest-rmse:0.07191\n",
      "[256]\tTest-rmse:0.07174\n",
      "[257]\tTest-rmse:0.07155\n",
      "[258]\tTest-rmse:0.07137\n",
      "[259]\tTest-rmse:0.07118\n",
      "[260]\tTest-rmse:0.07100\n",
      "[261]\tTest-rmse:0.07084\n",
      "[262]\tTest-rmse:0.07067\n",
      "[263]\tTest-rmse:0.07049\n",
      "[264]\tTest-rmse:0.07033\n",
      "[265]\tTest-rmse:0.07015\n",
      "[266]\tTest-rmse:0.07001\n",
      "[267]\tTest-rmse:0.06984\n",
      "[268]\tTest-rmse:0.06970\n",
      "[269]\tTest-rmse:0.06953\n",
      "[270]\tTest-rmse:0.06939\n",
      "[271]\tTest-rmse:0.06923\n",
      "[272]\tTest-rmse:0.06910\n",
      "[273]\tTest-rmse:0.06895\n",
      "[274]\tTest-rmse:0.06881\n",
      "[275]\tTest-rmse:0.06868\n",
      "[276]\tTest-rmse:0.06855\n",
      "[277]\tTest-rmse:0.06841\n",
      "[278]\tTest-rmse:0.06827\n",
      "[279]\tTest-rmse:0.06815\n",
      "[280]\tTest-rmse:0.06804\n",
      "[281]\tTest-rmse:0.06790\n",
      "[282]\tTest-rmse:0.06777\n",
      "[283]\tTest-rmse:0.06765\n",
      "[284]\tTest-rmse:0.06753\n",
      "[285]\tTest-rmse:0.06740\n",
      "[286]\tTest-rmse:0.06729\n",
      "[287]\tTest-rmse:0.06717\n",
      "[288]\tTest-rmse:0.06706\n",
      "[289]\tTest-rmse:0.06695\n",
      "[290]\tTest-rmse:0.06683\n",
      "[291]\tTest-rmse:0.06673\n",
      "[292]\tTest-rmse:0.06662\n",
      "[293]\tTest-rmse:0.06650\n",
      "[294]\tTest-rmse:0.06641\n",
      "[295]\tTest-rmse:0.06631\n",
      "[296]\tTest-rmse:0.06622\n",
      "[297]\tTest-rmse:0.06610\n",
      "[298]\tTest-rmse:0.06599\n",
      "[299]\tTest-rmse:0.06590\n",
      "[300]\tTest-rmse:0.06581\n",
      "[301]\tTest-rmse:0.06573\n",
      "[302]\tTest-rmse:0.06562\n",
      "[303]\tTest-rmse:0.06554\n",
      "[304]\tTest-rmse:0.06545\n",
      "[305]\tTest-rmse:0.06537\n",
      "[306]\tTest-rmse:0.06529\n",
      "[307]\tTest-rmse:0.06520\n",
      "[308]\tTest-rmse:0.06513\n",
      "[309]\tTest-rmse:0.06504\n",
      "[310]\tTest-rmse:0.06495\n",
      "[311]\tTest-rmse:0.06488\n",
      "[312]\tTest-rmse:0.06481\n",
      "[313]\tTest-rmse:0.06475\n",
      "[314]\tTest-rmse:0.06465\n",
      "[315]\tTest-rmse:0.06459\n",
      "[316]\tTest-rmse:0.06452\n",
      "[317]\tTest-rmse:0.06445\n",
      "[318]\tTest-rmse:0.06440\n",
      "[319]\tTest-rmse:0.06433\n",
      "[320]\tTest-rmse:0.06427\n",
      "[321]\tTest-rmse:0.06420\n",
      "[322]\tTest-rmse:0.06414\n",
      "[323]\tTest-rmse:0.06407\n",
      "[324]\tTest-rmse:0.06402\n",
      "[325]\tTest-rmse:0.06396\n",
      "[326]\tTest-rmse:0.06391\n",
      "[327]\tTest-rmse:0.06384\n",
      "[328]\tTest-rmse:0.06379\n",
      "[329]\tTest-rmse:0.06374\n",
      "[330]\tTest-rmse:0.06367\n",
      "[331]\tTest-rmse:0.06363\n",
      "[332]\tTest-rmse:0.06358\n",
      "[333]\tTest-rmse:0.06353\n",
      "[334]\tTest-rmse:0.06348\n",
      "[335]\tTest-rmse:0.06342\n",
      "[336]\tTest-rmse:0.06337\n",
      "[337]\tTest-rmse:0.06333\n",
      "[338]\tTest-rmse:0.06328\n",
      "[339]\tTest-rmse:0.06323\n",
      "[340]\tTest-rmse:0.06319\n",
      "[341]\tTest-rmse:0.06315\n",
      "[342]\tTest-rmse:0.06310\n",
      "[343]\tTest-rmse:0.06306\n"
     ]
    },
    {
     "name": "stdout",
     "output_type": "stream",
     "text": [
      "[344]\tTest-rmse:0.06302\n",
      "[345]\tTest-rmse:0.06297\n",
      "[346]\tTest-rmse:0.06293\n",
      "[347]\tTest-rmse:0.06288\n",
      "[348]\tTest-rmse:0.06284\n",
      "[349]\tTest-rmse:0.06280\n",
      "[350]\tTest-rmse:0.06276\n",
      "[351]\tTest-rmse:0.06274\n",
      "[352]\tTest-rmse:0.06269\n",
      "[353]\tTest-rmse:0.06266\n",
      "[354]\tTest-rmse:0.06261\n",
      "[355]\tTest-rmse:0.06259\n",
      "[356]\tTest-rmse:0.06254\n",
      "[357]\tTest-rmse:0.06251\n",
      "[358]\tTest-rmse:0.06246\n",
      "[359]\tTest-rmse:0.06245\n",
      "[360]\tTest-rmse:0.06241\n",
      "[361]\tTest-rmse:0.06237\n",
      "[362]\tTest-rmse:0.06233\n",
      "[363]\tTest-rmse:0.06232\n",
      "[364]\tTest-rmse:0.06227\n",
      "[365]\tTest-rmse:0.06224\n",
      "[366]\tTest-rmse:0.06222\n",
      "[367]\tTest-rmse:0.06218\n",
      "[368]\tTest-rmse:0.06217\n",
      "[369]\tTest-rmse:0.06213\n",
      "[370]\tTest-rmse:0.06210\n",
      "[371]\tTest-rmse:0.06208\n",
      "[372]\tTest-rmse:0.06203\n",
      "[373]\tTest-rmse:0.06202\n",
      "[374]\tTest-rmse:0.06198\n",
      "[375]\tTest-rmse:0.06196\n",
      "[376]\tTest-rmse:0.06193\n",
      "[377]\tTest-rmse:0.06189\n",
      "[378]\tTest-rmse:0.06187\n",
      "[379]\tTest-rmse:0.06186\n",
      "[380]\tTest-rmse:0.06182\n",
      "[381]\tTest-rmse:0.06180\n",
      "[382]\tTest-rmse:0.06178\n",
      "[383]\tTest-rmse:0.06176\n",
      "[384]\tTest-rmse:0.06172\n",
      "[385]\tTest-rmse:0.06170\n",
      "[386]\tTest-rmse:0.06168\n",
      "[387]\tTest-rmse:0.06165\n",
      "[388]\tTest-rmse:0.06163\n",
      "[389]\tTest-rmse:0.06161\n",
      "[390]\tTest-rmse:0.06159\n",
      "[391]\tTest-rmse:0.06156\n",
      "[392]\tTest-rmse:0.06154\n",
      "[393]\tTest-rmse:0.06153\n",
      "[394]\tTest-rmse:0.06151\n",
      "[395]\tTest-rmse:0.06148\n",
      "[396]\tTest-rmse:0.06146\n",
      "[397]\tTest-rmse:0.06146\n",
      "[398]\tTest-rmse:0.06144\n",
      "[399]\tTest-rmse:0.06142\n",
      "[400]\tTest-rmse:0.06139\n",
      "[401]\tTest-rmse:0.06137\n",
      "[402]\tTest-rmse:0.06136\n",
      "[403]\tTest-rmse:0.06135\n",
      "[404]\tTest-rmse:0.06133\n",
      "[405]\tTest-rmse:0.06130\n",
      "[406]\tTest-rmse:0.06128\n",
      "[407]\tTest-rmse:0.06127\n",
      "[408]\tTest-rmse:0.06126\n",
      "[409]\tTest-rmse:0.06124\n",
      "[410]\tTest-rmse:0.06121\n",
      "[411]\tTest-rmse:0.06120\n",
      "[412]\tTest-rmse:0.06119\n",
      "[413]\tTest-rmse:0.06118\n",
      "[414]\tTest-rmse:0.06118\n",
      "[415]\tTest-rmse:0.06116\n",
      "[416]\tTest-rmse:0.06115\n",
      "[417]\tTest-rmse:0.06112\n",
      "[418]\tTest-rmse:0.06111\n",
      "[419]\tTest-rmse:0.06110\n",
      "[420]\tTest-rmse:0.06109\n",
      "[421]\tTest-rmse:0.06108\n",
      "[422]\tTest-rmse:0.06107\n",
      "[423]\tTest-rmse:0.06106\n",
      "[424]\tTest-rmse:0.06103\n",
      "[425]\tTest-rmse:0.06102\n",
      "[426]\tTest-rmse:0.06101\n",
      "[427]\tTest-rmse:0.06100\n",
      "[428]\tTest-rmse:0.06100\n",
      "[429]\tTest-rmse:0.06099\n",
      "[430]\tTest-rmse:0.06098\n",
      "[431]\tTest-rmse:0.06097\n",
      "[432]\tTest-rmse:0.06094\n",
      "[433]\tTest-rmse:0.06094\n",
      "[434]\tTest-rmse:0.06092\n",
      "[435]\tTest-rmse:0.06092\n",
      "[436]\tTest-rmse:0.06091\n",
      "[437]\tTest-rmse:0.06090\n",
      "[438]\tTest-rmse:0.06090\n",
      "[439]\tTest-rmse:0.06089\n",
      "[440]\tTest-rmse:0.06088\n",
      "[441]\tTest-rmse:0.06087\n",
      "[442]\tTest-rmse:0.06085\n",
      "[443]\tTest-rmse:0.06084\n",
      "[444]\tTest-rmse:0.06084\n",
      "[445]\tTest-rmse:0.06082\n",
      "[446]\tTest-rmse:0.06082\n",
      "[447]\tTest-rmse:0.06082\n",
      "[448]\tTest-rmse:0.06081\n",
      "[449]\tTest-rmse:0.06080\n",
      "[450]\tTest-rmse:0.06080\n",
      "[451]\tTest-rmse:0.06079\n",
      "[452]\tTest-rmse:0.06078\n",
      "[453]\tTest-rmse:0.06078\n",
      "[454]\tTest-rmse:0.06077\n",
      "[455]\tTest-rmse:0.06075\n",
      "[456]\tTest-rmse:0.06074\n",
      "[457]\tTest-rmse:0.06074\n",
      "[458]\tTest-rmse:0.06073\n",
      "[459]\tTest-rmse:0.06072\n",
      "[460]\tTest-rmse:0.06072\n",
      "[461]\tTest-rmse:0.06071\n",
      "[462]\tTest-rmse:0.06071\n",
      "[463]\tTest-rmse:0.06070\n",
      "[464]\tTest-rmse:0.06070\n",
      "[465]\tTest-rmse:0.06070\n",
      "[466]\tTest-rmse:0.06069\n",
      "[467]\tTest-rmse:0.06068\n",
      "[468]\tTest-rmse:0.06068\n",
      "[469]\tTest-rmse:0.06068\n",
      "[470]\tTest-rmse:0.06067\n",
      "[471]\tTest-rmse:0.06065\n",
      "[472]\tTest-rmse:0.06064\n",
      "[473]\tTest-rmse:0.06064\n",
      "[474]\tTest-rmse:0.06064\n",
      "[475]\tTest-rmse:0.06064\n",
      "[476]\tTest-rmse:0.06064\n",
      "[477]\tTest-rmse:0.06063\n",
      "[478]\tTest-rmse:0.06062\n",
      "[479]\tTest-rmse:0.06062\n",
      "[480]\tTest-rmse:0.06062\n",
      "[481]\tTest-rmse:0.06062\n",
      "[482]\tTest-rmse:0.06061\n",
      "[483]\tTest-rmse:0.06061\n",
      "[484]\tTest-rmse:0.06061\n",
      "[485]\tTest-rmse:0.06060\n",
      "[486]\tTest-rmse:0.06060\n",
      "[487]\tTest-rmse:0.06060\n",
      "[488]\tTest-rmse:0.06060\n",
      "[489]\tTest-rmse:0.06059\n",
      "[490]\tTest-rmse:0.06059\n",
      "[491]\tTest-rmse:0.06058\n",
      "[492]\tTest-rmse:0.06058\n",
      "[493]\tTest-rmse:0.06057\n",
      "[494]\tTest-rmse:0.06057\n",
      "[495]\tTest-rmse:0.06057\n",
      "[496]\tTest-rmse:0.06056\n",
      "[497]\tTest-rmse:0.06054\n",
      "[498]\tTest-rmse:0.06053\n",
      "[499]\tTest-rmse:0.06053\n"
     ]
    }
   ],
   "source": [
    "model = xgb.train(\n",
    "    params,\n",
    "    dtrain,\n",
    "    num_boost_round=500,\n",
    "    evals=[(dtest, \"Test\")],\n",
    "    early_stopping_rounds=10\n",
    ")"
   ]
  },
  {
   "cell_type": "code",
   "execution_count": 20,
   "metadata": {},
   "outputs": [
    {
     "name": "stdout",
     "output_type": "stream",
     "text": [
      "Best RMSE: 0.06 in 500 rounds\n"
     ]
    }
   ],
   "source": [
    "print(\"Best RMSE: {:.2f} in {} rounds\".format(model.best_score, model.best_iteration+1))"
   ]
  },
  {
   "cell_type": "code",
   "execution_count": 22,
   "metadata": {},
   "outputs": [
    {
     "name": "stdout",
     "output_type": "stream",
     "text": [
      "r2_train [[1.         0.83384603]\n",
      " [0.83384603 1.        ]]\n",
      "r2_test [[1.         0.79266028]\n",
      " [0.79266028 1.        ]]\n"
     ]
    }
   ],
   "source": [
    "print(\"r2_train\", np.corrcoef(y_train, model.predict(dtrain))**2)\n",
    "print(\"r2_test\", np.corrcoef(y_test, model.predict(dtest))**2)"
   ]
  },
  {
   "cell_type": "code",
   "execution_count": 23,
   "metadata": {},
   "outputs": [],
   "source": [
    "model.save_model(\"xgboost.model\")"
   ]
  },
  {
   "cell_type": "markdown",
   "metadata": {},
   "source": [
    "#### Adaboost"
   ]
  },
  {
   "cell_type": "code",
   "execution_count": 44,
   "metadata": {},
   "outputs": [],
   "source": [
    "from sklearn.ensemble import AdaBoostRegressor\n",
    "from sklearn.tree import DecisionTreeRegressor"
   ]
  },
  {
   "cell_type": "code",
   "execution_count": 45,
   "metadata": {},
   "outputs": [],
   "source": [
    "# Instantiate dt\n",
    "dt = DecisionTreeRegressor(max_depth=2, random_state=1)\n",
    "# Instantiate ada\n",
    "ada = AdaBoostRegressor(base_estimator=dt, n_estimators=180, random_state=1)"
   ]
  },
  {
   "cell_type": "code",
   "execution_count": 46,
   "metadata": {},
   "outputs": [],
   "source": [
    "ada.fit(x_train, y_train)\n",
    "\n",
    "# Compute the probabilities of obtaining the positive class\n",
    "ada_y_pred = ada.predict(x_test)"
   ]
  },
  {
   "cell_type": "code",
   "execution_count": 47,
   "metadata": {},
   "outputs": [
    {
     "name": "stdout",
     "output_type": "stream",
     "text": [
      "Test set RMSE of rf: 0.30\n",
      "Train set RMSE of rf: 0.30\n"
     ]
    }
   ],
   "source": [
    "ada_y_pred_train = ada.predict(x_train)\n",
    "# Evaluate the test set RMSE\n",
    "ada_rmse_test = RMSE(y_test, ada_y_pred)**(1/2)\n",
    "ada_rmse_train = RMSE(y_train, ada_y_pred_train)**(1/2)\n",
    "\n",
    "print('Test set RMSE of rf: {:.2f}'.format(ada_rmse_test))\n",
    "print('Train set RMSE of rf: {:.2f}'.format(ada_rmse_train))"
   ]
  },
  {
   "cell_type": "code",
   "execution_count": 48,
   "metadata": {},
   "outputs": [
    {
     "name": "stdout",
     "output_type": "stream",
     "text": [
      "r2_train [[1.        0.5699613]\n",
      " [0.5699613 1.       ]]\n",
      "r2_test [[1.         0.56972855]\n",
      " [0.56972855 1.        ]]\n"
     ]
    }
   ],
   "source": [
    "print(\"r2_train\", np.corrcoef(y_train, ada_y_pred_train)**2)\n",
    "print(\"r2_test\", np.corrcoef(y_test, ada_y_pred)**2)"
   ]
  },
  {
   "cell_type": "markdown",
   "metadata": {},
   "source": [
    "### Regression on log Clicks"
   ]
  },
  {
   "cell_type": "code",
   "execution_count": 27,
   "metadata": {},
   "outputs": [],
   "source": [
    "X1 = df.drop(['DATE_ID','CAMPAIGN','KEYWORD','IMPRESSIONS','CTR','Flag','CLICKS','logCTR','logClicks','CPC',\n",
    "              'logImpression'], axis=1)\n",
    "Y1 = df['logClicks'].values"
   ]
  },
  {
   "cell_type": "code",
   "execution_count": 28,
   "metadata": {},
   "outputs": [],
   "source": [
    "x_train, x_test, y_train, y_test = train_test_split(X1, Y1, test_size = 0.3, random_state=121)"
   ]
  },
  {
   "cell_type": "markdown",
   "metadata": {},
   "source": [
    "#### Random Forest"
   ]
  },
  {
   "cell_type": "code",
   "execution_count": null,
   "metadata": {},
   "outputs": [],
   "source": [
    "rf = RandomForestRegressor(n_estimators=400, min_samples_leaf=0.12, random_state=121)\n",
    "rf.fit(x_train, y_train)\n",
    "\n",
    "# Predict the test set labels 'y_pred'\n",
    "y_pred = rf.predict(x_test)\n",
    "y_pred_train = rf.predict(x_train)"
   ]
  },
  {
   "cell_type": "code",
   "execution_count": 31,
   "metadata": {},
   "outputs": [
    {
     "name": "stdout",
     "output_type": "stream",
     "text": [
      "Test set RMSE of rf: 0.30\n",
      "Train set RMSE of rf: 0.30\n"
     ]
    }
   ],
   "source": [
    "# Evaluate the test set RMSE\n",
    "rmse_test = RMSE(y_test, y_pred)\n",
    "rmse_train = RMSE(y_train, y_pred_train)\n",
    "\n",
    "# Print the test set RMSE\n",
    "print('Test set RMSE of rf: {:.2f}'.format(rmse_test))\n",
    "print('Train set RMSE of rf: {:.2f}'.format(rmse_train))"
   ]
  },
  {
   "cell_type": "code",
   "execution_count": 33,
   "metadata": {},
   "outputs": [
    {
     "name": "stdout",
     "output_type": "stream",
     "text": [
      "[[1.         0.67322421]\n",
      " [0.67322421 1.        ]]\n",
      "[[1.         0.67262969]\n",
      " [0.67262969 1.        ]]\n"
     ]
    }
   ],
   "source": [
    "r2_train = np.corrcoef(y_train, y_pred_train)**2\n",
    "r2_test = np.corrcoef(y_test, y_pred)**2\n",
    "print(r2_train)\n",
    "print(r2_test)"
   ]
  },
  {
   "cell_type": "code",
   "execution_count": 34,
   "metadata": {},
   "outputs": [],
   "source": [
    "param_grid = {'max_features': ['auto', 'sqrt'],\n",
    "              'min_samples_leaf': [0.08, 0.10, 0.12],\n",
    "              'n_estimators': [300,400,500]}"
   ]
  },
  {
   "cell_type": "code",
   "execution_count": 35,
   "metadata": {},
   "outputs": [],
   "source": [
    "rf0 = RandomForestRegressor(random_state=12, oob_score = True, max_features=6)"
   ]
  },
  {
   "cell_type": "code",
   "execution_count": 36,
   "metadata": {},
   "outputs": [],
   "source": [
    "from sklearn.model_selection import RandomizedSearchCV\n",
    "rf_random = RandomizedSearchCV(estimator = rf0, param_distributions = param_grid, scoring = \"r2\",\n",
    "                               n_iter = 20, cv = 3, verbose = 1, n_jobs = -1)"
   ]
  },
  {
   "cell_type": "code",
   "execution_count": 37,
   "metadata": {},
   "outputs": [
    {
     "name": "stderr",
     "output_type": "stream",
     "text": [
      "C:\\Users\\zjx04\\anaconda3\\lib\\site-packages\\sklearn\\model_selection\\_search.py:282: UserWarning: The total space of parameters 18 is smaller than n_iter=20. Running 18 iterations. For exhaustive searches, use GridSearchCV.\n",
      "  % (grid_size, self.n_iter, grid_size), UserWarning)\n",
      "[Parallel(n_jobs=-1)]: Using backend LokyBackend with 4 concurrent workers.\n"
     ]
    },
    {
     "name": "stdout",
     "output_type": "stream",
     "text": [
      "Fitting 3 folds for each of 18 candidates, totalling 54 fits\n"
     ]
    },
    {
     "name": "stderr",
     "output_type": "stream",
     "text": [
      "[Parallel(n_jobs=-1)]: Done  42 tasks      | elapsed: 20.5min\n",
      "[Parallel(n_jobs=-1)]: Done  54 out of  54 | elapsed: 23.3min finished\n"
     ]
    },
    {
     "data": {
      "text/plain": [
       "RandomizedSearchCV(cv=3,\n",
       "                   estimator=RandomForestRegressor(max_features=6,\n",
       "                                                   oob_score=True,\n",
       "                                                   random_state=12),\n",
       "                   n_iter=20, n_jobs=-1,\n",
       "                   param_distributions={'max_features': ['auto', 'sqrt'],\n",
       "                                        'min_samples_leaf': [0.08, 0.1, 0.12],\n",
       "                                        'n_estimators': [300, 400, 500]},\n",
       "                   scoring='r2', verbose=1)"
      ]
     },
     "execution_count": 37,
     "metadata": {},
     "output_type": "execute_result"
    }
   ],
   "source": [
    "rf_random.fit(x_train, y_train)"
   ]
  },
  {
   "cell_type": "code",
   "execution_count": 40,
   "metadata": {},
   "outputs": [
    {
     "data": {
      "text/plain": [
       "{'n_estimators': 500, 'min_samples_leaf': 0.1, 'max_features': 'auto'}"
      ]
     },
     "execution_count": 40,
     "metadata": {},
     "output_type": "execute_result"
    }
   ],
   "source": [
    "rf_random.best_params_"
   ]
  },
  {
   "cell_type": "code",
   "execution_count": 38,
   "metadata": {},
   "outputs": [
    {
     "name": "stdout",
     "output_type": "stream",
     "text": [
      "train RMSE = 0.30039708878409865\n"
     ]
    }
   ],
   "source": [
    "print('train RMSE =', RMSE(y_test, rf_random.best_estimator_.predict(x_test)))"
   ]
  },
  {
   "cell_type": "code",
   "execution_count": 39,
   "metadata": {},
   "outputs": [
    {
     "name": "stdout",
     "output_type": "stream",
     "text": [
      "r2_train [[1.         0.67322421]\n",
      " [0.67322421 1.        ]]\n",
      "r2_test [[1.        0.6726297]\n",
      " [0.6726297 1.       ]]\n"
     ]
    }
   ],
   "source": [
    "print(\"r2_train\", np.corrcoef(y_train, rf_random.best_estimator_.predict(x_train))**2)\n",
    "print(\"r2_test\", np.corrcoef(y_test, rf_random.best_estimator_.predict(x_test))**2)"
   ]
  },
  {
   "cell_type": "markdown",
   "metadata": {},
   "source": [
    "#### XGboost"
   ]
  },
  {
   "cell_type": "code",
   "execution_count": 42,
   "metadata": {},
   "outputs": [],
   "source": [
    "param_grid = {\n",
    "    'learning_rate': [0.3, 0.5, 0.7],\n",
    "    'max_depth': [4,5,6],\n",
    "    'n_estimators': [50, 75, 100]\n",
    "}"
   ]
  },
  {
   "cell_type": "code",
   "execution_count": 43,
   "metadata": {},
   "outputs": [
    {
     "data": {
      "text/plain": [
       "RandomizedSearchCV(cv=3,\n",
       "                   estimator=XGBRegressor(base_score=None, booster=None,\n",
       "                                          colsample_bylevel=None,\n",
       "                                          colsample_bynode=None,\n",
       "                                          colsample_bytree=None, gamma=None,\n",
       "                                          gpu_id=None, importance_type='gain',\n",
       "                                          interaction_constraints=None,\n",
       "                                          learning_rate=None,\n",
       "                                          max_delta_step=None, max_depth=None,\n",
       "                                          min_child_weight=None, missing=nan,\n",
       "                                          monotone_constraints=None,\n",
       "                                          n_estimators=100, n_jobs=None,\n",
       "                                          num_parallel_tree=None,\n",
       "                                          random_state=None, reg_alpha=None,\n",
       "                                          reg_lambda=None,\n",
       "                                          scale_pos_weight=None, seed=122,\n",
       "                                          subsample=None, tree_method=None,\n",
       "                                          validate_parameters=None,\n",
       "                                          verbosity=None),\n",
       "                   n_jobs=-1,\n",
       "                   param_distributions={'learning_rate': [0.3, 0.5, 0.7],\n",
       "                                        'max_depth': [4, 5, 6],\n",
       "                                        'n_estimators': [50, 75, 100]},\n",
       "                   scoring='r2')"
      ]
     },
     "execution_count": 43,
     "metadata": {},
     "output_type": "execute_result"
    }
   ],
   "source": [
    "grid = RandomizedSearchCV(estimator = XGBRegressor(objective= 'reg:squarederror', seed=122), scoring = 'r2',\n",
    "                          param_distributions = param_grid, n_jobs=-1, cv=3)\n",
    "\n",
    "grid.fit(x_train, y_train)"
   ]
  },
  {
   "cell_type": "code",
   "execution_count": 44,
   "metadata": {},
   "outputs": [
    {
     "data": {
      "text/plain": [
       "{'n_estimators': 100, 'max_depth': 6, 'learning_rate': 0.3}"
      ]
     },
     "execution_count": 44,
     "metadata": {},
     "output_type": "execute_result"
    }
   ],
   "source": [
    "grid.best_params_"
   ]
  },
  {
   "cell_type": "code",
   "execution_count": 45,
   "metadata": {},
   "outputs": [
    {
     "name": "stdout",
     "output_type": "stream",
     "text": [
      "0.08966339732352833\n"
     ]
    }
   ],
   "source": [
    "print(RMSE(y_test, grid.best_estimator_.predict(x_test)))"
   ]
  },
  {
   "cell_type": "code",
   "execution_count": 46,
   "metadata": {},
   "outputs": [
    {
     "name": "stdout",
     "output_type": "stream",
     "text": [
      "r2_train [[1.        0.9756333]\n",
      " [0.9756333 1.       ]]\n",
      "r2_test [[1.         0.97083273]\n",
      " [0.97083273 1.        ]]\n"
     ]
    }
   ],
   "source": [
    "print(\"r2_train\", np.corrcoef(y_train, grid.best_estimator_.predict(x_train))**2)\n",
    "print(\"r2_test\", np.corrcoef(y_test, grid.best_estimator_.predict(x_test))**2)"
   ]
  },
  {
   "cell_type": "markdown",
   "metadata": {},
   "source": [
    "### Regression on log Impressions"
   ]
  },
  {
   "cell_type": "code",
   "execution_count": 47,
   "metadata": {},
   "outputs": [],
   "source": [
    "X2 = df.drop(['DATE_ID','CAMPAIGN','KEYWORD','IMPRESSIONS','CTR','Flag','CLICKS','logCTR','logClicks','CPC',\n",
    "              'logImpression'], axis=1)\n",
    "Y2 = df['logImpression'].values"
   ]
  },
  {
   "cell_type": "code",
   "execution_count": 48,
   "metadata": {},
   "outputs": [],
   "source": [
    "x_train, x_test, y_train, y_test = train_test_split(X2, Y2, test_size = 0.3, random_state=121)"
   ]
  },
  {
   "cell_type": "markdown",
   "metadata": {},
   "source": [
    "#### Random Forest"
   ]
  },
  {
   "cell_type": "code",
   "execution_count": 49,
   "metadata": {},
   "outputs": [],
   "source": [
    "rf = RandomForestRegressor(n_estimators=400, min_samples_leaf=0.12, random_state=121)\n",
    "rf.fit(x_train, y_train)\n",
    "\n",
    "# Predict the test set labels 'y_pred'\n",
    "y_pred = rf.predict(x_test)\n",
    "y_pred_train = rf.predict(x_train)"
   ]
  },
  {
   "cell_type": "code",
   "execution_count": 50,
   "metadata": {},
   "outputs": [
    {
     "name": "stdout",
     "output_type": "stream",
     "text": [
      "Test set RMSE of rf: 0.95\n",
      "Train set RMSE of rf: 0.95\n"
     ]
    }
   ],
   "source": [
    "# Evaluate the test set RMSE\n",
    "rmse_test = RMSE(y_test, y_pred)\n",
    "rmse_train = RMSE(y_train, y_pred_train)\n",
    "\n",
    "# Print the test set RMSE\n",
    "print('Test set RMSE of rf: {:.2f}'.format(rmse_test))\n",
    "print('Train set RMSE of rf: {:.2f}'.format(rmse_train))"
   ]
  },
  {
   "cell_type": "code",
   "execution_count": 51,
   "metadata": {},
   "outputs": [
    {
     "name": "stdout",
     "output_type": "stream",
     "text": [
      "[[1.         0.29862877]\n",
      " [0.29862877 1.        ]]\n",
      "[[1.         0.30038717]\n",
      " [0.30038717 1.        ]]\n"
     ]
    }
   ],
   "source": [
    "r2_train = np.corrcoef(y_train, y_pred_train)**2\n",
    "r2_test = np.corrcoef(y_test, y_pred)**2\n",
    "print(r2_train)\n",
    "print(r2_test)"
   ]
  },
  {
   "cell_type": "markdown",
   "metadata": {},
   "source": [
    "#### XGboost"
   ]
  },
  {
   "cell_type": "code",
   "execution_count": 52,
   "metadata": {},
   "outputs": [],
   "source": [
    "param_grid = {\n",
    "    'learning_rate': [0.3, 0.5, 0.7],\n",
    "    'max_depth': [4,5,6],\n",
    "    'n_estimators': [50, 75, 100]\n",
    "}"
   ]
  },
  {
   "cell_type": "code",
   "execution_count": 53,
   "metadata": {},
   "outputs": [
    {
     "data": {
      "text/plain": [
       "RandomizedSearchCV(cv=3,\n",
       "                   estimator=XGBRegressor(base_score=None, booster=None,\n",
       "                                          colsample_bylevel=None,\n",
       "                                          colsample_bynode=None,\n",
       "                                          colsample_bytree=None, gamma=None,\n",
       "                                          gpu_id=None, importance_type='gain',\n",
       "                                          interaction_constraints=None,\n",
       "                                          learning_rate=None,\n",
       "                                          max_delta_step=None, max_depth=None,\n",
       "                                          min_child_weight=None, missing=nan,\n",
       "                                          monotone_constraints=None,\n",
       "                                          n_estimators=100, n_jobs=None,\n",
       "                                          num_parallel_tree=None,\n",
       "                                          random_state=None, reg_alpha=None,\n",
       "                                          reg_lambda=None,\n",
       "                                          scale_pos_weight=None, seed=122,\n",
       "                                          subsample=None, tree_method=None,\n",
       "                                          validate_parameters=None,\n",
       "                                          verbosity=None),\n",
       "                   n_jobs=-1,\n",
       "                   param_distributions={'learning_rate': [0.3, 0.5, 0.7],\n",
       "                                        'max_depth': [4, 5, 6],\n",
       "                                        'n_estimators': [50, 75, 100]},\n",
       "                   scoring='r2')"
      ]
     },
     "execution_count": 53,
     "metadata": {},
     "output_type": "execute_result"
    }
   ],
   "source": [
    "grid = RandomizedSearchCV(estimator = XGBRegressor(objective= 'reg:squarederror', seed=122), scoring = 'r2',\n",
    "                          param_distributions = param_grid, n_jobs=-1, cv=3)\n",
    "\n",
    "grid.fit(x_train, y_train)"
   ]
  },
  {
   "cell_type": "code",
   "execution_count": 54,
   "metadata": {},
   "outputs": [
    {
     "data": {
      "text/plain": [
       "{'n_estimators': 75, 'max_depth': 6, 'learning_rate': 0.7}"
      ]
     },
     "execution_count": 54,
     "metadata": {},
     "output_type": "execute_result"
    }
   ],
   "source": [
    "grid.best_params_"
   ]
  },
  {
   "cell_type": "code",
   "execution_count": 55,
   "metadata": {},
   "outputs": [
    {
     "name": "stdout",
     "output_type": "stream",
     "text": [
      "0.4776308761249928\n"
     ]
    }
   ],
   "source": [
    "print(RMSE(y_test, grid.best_estimator_.predict(x_test)))"
   ]
  },
  {
   "cell_type": "code",
   "execution_count": 56,
   "metadata": {},
   "outputs": [
    {
     "name": "stdout",
     "output_type": "stream",
     "text": [
      "r2_train [[1.         0.83764718]\n",
      " [0.83764718 1.        ]]\n",
      "r2_test [[1.       0.822021]\n",
      " [0.822021 1.      ]]\n"
     ]
    }
   ],
   "source": [
    "print(\"r2_train\", np.corrcoef(y_train, grid.best_estimator_.predict(x_train))**2)\n",
    "print(\"r2_test\", np.corrcoef(y_test, grid.best_estimator_.predict(x_test))**2)"
   ]
  },
  {
   "cell_type": "code",
   "execution_count": null,
   "metadata": {},
   "outputs": [],
   "source": []
  }
 ],
 "metadata": {
  "kernelspec": {
   "display_name": "Python 3",
   "language": "python",
   "name": "python3"
  },
  "language_info": {
   "codemirror_mode": {
    "name": "ipython",
    "version": 3
   },
   "file_extension": ".py",
   "mimetype": "text/x-python",
   "name": "python",
   "nbconvert_exporter": "python",
   "pygments_lexer": "ipython3",
   "version": "3.7.1"
  }
 },
 "nbformat": 4,
 "nbformat_minor": 4
}
