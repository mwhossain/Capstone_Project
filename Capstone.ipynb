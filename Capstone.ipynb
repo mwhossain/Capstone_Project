{
 "cells": [
  {
   "cell_type": "code",
   "execution_count": 1,
   "metadata": {},
   "outputs": [],
   "source": [
    "from sklearn.decomposition import PCA\n",
    "from sklearn.preprocessing import StandardScaler\n",
    "import seaborn as sb\n",
    "import pandas as pd"
   ]
  },
  {
   "cell_type": "code",
   "execution_count": 2,
   "metadata": {},
   "outputs": [],
   "source": [
    "df = pd.read_csv('Cap.csv')"
   ]
  },
  {
   "cell_type": "code",
   "execution_count": 3,
   "metadata": {},
   "outputs": [
    {
     "data": {
      "text/html": [
       "<div>\n",
       "<style scoped>\n",
       "    .dataframe tbody tr th:only-of-type {\n",
       "        vertical-align: middle;\n",
       "    }\n",
       "\n",
       "    .dataframe tbody tr th {\n",
       "        vertical-align: top;\n",
       "    }\n",
       "\n",
       "    .dataframe thead th {\n",
       "        text-align: right;\n",
       "    }\n",
       "</style>\n",
       "<table border=\"1\" class=\"dataframe\">\n",
       "  <thead>\n",
       "    <tr style=\"text-align: right;\">\n",
       "      <th></th>\n",
       "      <th>DATE</th>\n",
       "      <th>WEEK_OF_YEAR</th>\n",
       "      <th>CAMPAIGN</th>\n",
       "      <th>CAMPAIGN_TYPE</th>\n",
       "      <th>KEYWORD</th>\n",
       "      <th>NETWORK</th>\n",
       "      <th>CPC</th>\n",
       "      <th>PAGE_VIEWS</th>\n",
       "      <th>TIME_ON_SITE_TOTAL</th>\n",
       "      <th>VISITOR_BOUNCE</th>\n",
       "      <th>VISITS</th>\n",
       "      <th>POSITION</th>\n",
       "      <th>Clicks</th>\n",
       "      <th>Impressions</th>\n",
       "      <th>Media_Cost</th>\n",
       "    </tr>\n",
       "  </thead>\n",
       "  <tbody>\n",
       "    <tr>\n",
       "      <th>0</th>\n",
       "      <td>2017-05-21 00:00:00</td>\n",
       "      <td>21</td>\n",
       "      <td>Non Brand | Condition | Geo</td>\n",
       "      <td>Unbranded</td>\n",
       "      <td>symptoms of asthma</td>\n",
       "      <td>Google</td>\n",
       "      <td>1.8</td>\n",
       "      <td>2.0</td>\n",
       "      <td>13.0</td>\n",
       "      <td>1.0</td>\n",
       "      <td>2.0</td>\n",
       "      <td>2.080000</td>\n",
       "      <td>3.000000</td>\n",
       "      <td>51.0000</td>\n",
       "      <td>5.400000</td>\n",
       "    </tr>\n",
       "    <tr>\n",
       "      <th>1</th>\n",
       "      <td>2017-05-21 00:00:00</td>\n",
       "      <td>21</td>\n",
       "      <td>Brand</td>\n",
       "      <td>Branded</td>\n",
       "      <td>product1 spacer</td>\n",
       "      <td>Google</td>\n",
       "      <td>1.8</td>\n",
       "      <td>2.0</td>\n",
       "      <td>13.0</td>\n",
       "      <td>1.0</td>\n",
       "      <td>2.0</td>\n",
       "      <td>1.000000</td>\n",
       "      <td>0.000000</td>\n",
       "      <td>2.0000</td>\n",
       "      <td>0.000000</td>\n",
       "    </tr>\n",
       "    <tr>\n",
       "      <th>2</th>\n",
       "      <td>2017-05-21 00:00:00</td>\n",
       "      <td>21</td>\n",
       "      <td>Non Brand | Treatment | National</td>\n",
       "      <td>Unbranded</td>\n",
       "      <td>how to prevent asthma</td>\n",
       "      <td>Google</td>\n",
       "      <td>1.8</td>\n",
       "      <td>2.0</td>\n",
       "      <td>13.0</td>\n",
       "      <td>1.0</td>\n",
       "      <td>2.0</td>\n",
       "      <td>1.480000</td>\n",
       "      <td>0.000000</td>\n",
       "      <td>4.0000</td>\n",
       "      <td>0.000000</td>\n",
       "    </tr>\n",
       "    <tr>\n",
       "      <th>3</th>\n",
       "      <td>2017-05-21 00:00:00</td>\n",
       "      <td>21</td>\n",
       "      <td>Non Brand | Info | Geo</td>\n",
       "      <td>Unbranded</td>\n",
       "      <td>facts about asthma</td>\n",
       "      <td>Bing</td>\n",
       "      <td>1.8</td>\n",
       "      <td>2.0</td>\n",
       "      <td>93.0</td>\n",
       "      <td>0.0</td>\n",
       "      <td>2.0</td>\n",
       "      <td>2.448832</td>\n",
       "      <td>0.728939</td>\n",
       "      <td>19.7124</td>\n",
       "      <td>1.669127</td>\n",
       "    </tr>\n",
       "    <tr>\n",
       "      <th>4</th>\n",
       "      <td>2017-05-21 00:00:00</td>\n",
       "      <td>21</td>\n",
       "      <td>Non Brand | Condition | Geo</td>\n",
       "      <td>Unbranded</td>\n",
       "      <td>asthma symptoms in children</td>\n",
       "      <td>Bing</td>\n",
       "      <td>1.8</td>\n",
       "      <td>1.0</td>\n",
       "      <td>2.0</td>\n",
       "      <td>0.0</td>\n",
       "      <td>1.0</td>\n",
       "      <td>2.448832</td>\n",
       "      <td>0.728939</td>\n",
       "      <td>19.7124</td>\n",
       "      <td>1.669127</td>\n",
       "    </tr>\n",
       "  </tbody>\n",
       "</table>\n",
       "</div>"
      ],
      "text/plain": [
       "                  DATE  WEEK_OF_YEAR                          CAMPAIGN  \\\n",
       "0  2017-05-21 00:00:00            21       Non Brand | Condition | Geo   \n",
       "1  2017-05-21 00:00:00            21                             Brand   \n",
       "2  2017-05-21 00:00:00            21  Non Brand | Treatment | National   \n",
       "3  2017-05-21 00:00:00            21            Non Brand | Info | Geo   \n",
       "4  2017-05-21 00:00:00            21       Non Brand | Condition | Geo   \n",
       "\n",
       "  CAMPAIGN_TYPE                      KEYWORD NETWORK  CPC  PAGE_VIEWS  \\\n",
       "0     Unbranded           symptoms of asthma  Google  1.8         2.0   \n",
       "1       Branded              product1 spacer  Google  1.8         2.0   \n",
       "2     Unbranded        how to prevent asthma  Google  1.8         2.0   \n",
       "3     Unbranded           facts about asthma    Bing  1.8         2.0   \n",
       "4     Unbranded  asthma symptoms in children    Bing  1.8         1.0   \n",
       "\n",
       "   TIME_ON_SITE_TOTAL  VISITOR_BOUNCE  VISITS  POSITION    Clicks  \\\n",
       "0                13.0             1.0     2.0  2.080000  3.000000   \n",
       "1                13.0             1.0     2.0  1.000000  0.000000   \n",
       "2                13.0             1.0     2.0  1.480000  0.000000   \n",
       "3                93.0             0.0     2.0  2.448832  0.728939   \n",
       "4                 2.0             0.0     1.0  2.448832  0.728939   \n",
       "\n",
       "   Impressions  Media_Cost  \n",
       "0      51.0000    5.400000  \n",
       "1       2.0000    0.000000  \n",
       "2       4.0000    0.000000  \n",
       "3      19.7124    1.669127  \n",
       "4      19.7124    1.669127  "
      ]
     },
     "execution_count": 3,
     "metadata": {},
     "output_type": "execute_result"
    }
   ],
   "source": [
    "df.head()"
   ]
  },
  {
   "cell_type": "code",
   "execution_count": 4,
   "metadata": {},
   "outputs": [
    {
     "data": {
      "text/plain": [
       "Index(['DATE', 'WEEK_OF_YEAR', 'CAMPAIGN', 'CAMPAIGN_TYPE', 'KEYWORD',\n",
       "       'NETWORK', 'CPC', 'PAGE_VIEWS', 'TIME_ON_SITE_TOTAL', 'VISITOR_BOUNCE',\n",
       "       'VISITS', 'POSITION', 'Clicks', 'Impressions', 'Media_Cost'],\n",
       "      dtype='object')"
      ]
     },
     "execution_count": 4,
     "metadata": {},
     "output_type": "execute_result"
    }
   ],
   "source": [
    "df.columns"
   ]
  },
  {
   "cell_type": "code",
   "execution_count": 5,
   "metadata": {},
   "outputs": [
    {
     "data": {
      "text/html": [
       "<div>\n",
       "<style scoped>\n",
       "    .dataframe tbody tr th:only-of-type {\n",
       "        vertical-align: middle;\n",
       "    }\n",
       "\n",
       "    .dataframe tbody tr th {\n",
       "        vertical-align: top;\n",
       "    }\n",
       "\n",
       "    .dataframe thead th {\n",
       "        text-align: right;\n",
       "    }\n",
       "</style>\n",
       "<table border=\"1\" class=\"dataframe\">\n",
       "  <thead>\n",
       "    <tr style=\"text-align: right;\">\n",
       "      <th></th>\n",
       "      <th>DATE</th>\n",
       "      <th>WEEK_OF_YEAR</th>\n",
       "      <th>CAMPAIGN</th>\n",
       "      <th>KEYWORD</th>\n",
       "      <th>NETWORK</th>\n",
       "      <th>CPC</th>\n",
       "      <th>PAGE_VIEWS</th>\n",
       "      <th>TIME_ON_SITE_TOTAL</th>\n",
       "      <th>VISITOR_BOUNCE</th>\n",
       "      <th>VISITS</th>\n",
       "      <th>POSITION</th>\n",
       "      <th>Clicks</th>\n",
       "      <th>Impressions</th>\n",
       "      <th>Media_Cost</th>\n",
       "    </tr>\n",
       "    <tr>\n",
       "      <th>CAMPAIGN_TYPE</th>\n",
       "      <th></th>\n",
       "      <th></th>\n",
       "      <th></th>\n",
       "      <th></th>\n",
       "      <th></th>\n",
       "      <th></th>\n",
       "      <th></th>\n",
       "      <th></th>\n",
       "      <th></th>\n",
       "      <th></th>\n",
       "      <th></th>\n",
       "      <th></th>\n",
       "      <th></th>\n",
       "      <th></th>\n",
       "    </tr>\n",
       "  </thead>\n",
       "  <tbody>\n",
       "    <tr>\n",
       "      <th>Branded</th>\n",
       "      <td>100493</td>\n",
       "      <td>100493</td>\n",
       "      <td>100493</td>\n",
       "      <td>100493</td>\n",
       "      <td>100493</td>\n",
       "      <td>100493</td>\n",
       "      <td>100493</td>\n",
       "      <td>100493</td>\n",
       "      <td>100493</td>\n",
       "      <td>100493</td>\n",
       "      <td>100493</td>\n",
       "      <td>100493</td>\n",
       "      <td>100493</td>\n",
       "      <td>100493</td>\n",
       "    </tr>\n",
       "    <tr>\n",
       "      <th>Unbranded</th>\n",
       "      <td>388274</td>\n",
       "      <td>388274</td>\n",
       "      <td>388274</td>\n",
       "      <td>388274</td>\n",
       "      <td>388274</td>\n",
       "      <td>388274</td>\n",
       "      <td>388274</td>\n",
       "      <td>388274</td>\n",
       "      <td>388274</td>\n",
       "      <td>388274</td>\n",
       "      <td>388274</td>\n",
       "      <td>388274</td>\n",
       "      <td>388274</td>\n",
       "      <td>388274</td>\n",
       "    </tr>\n",
       "  </tbody>\n",
       "</table>\n",
       "</div>"
      ],
      "text/plain": [
       "                 DATE  WEEK_OF_YEAR  CAMPAIGN  KEYWORD  NETWORK     CPC  \\\n",
       "CAMPAIGN_TYPE                                                             \n",
       "Branded        100493        100493    100493   100493   100493  100493   \n",
       "Unbranded      388274        388274    388274   388274   388274  388274   \n",
       "\n",
       "               PAGE_VIEWS  TIME_ON_SITE_TOTAL  VISITOR_BOUNCE  VISITS  \\\n",
       "CAMPAIGN_TYPE                                                           \n",
       "Branded            100493              100493          100493  100493   \n",
       "Unbranded          388274              388274          388274  388274   \n",
       "\n",
       "               POSITION  Clicks  Impressions  Media_Cost  \n",
       "CAMPAIGN_TYPE                                             \n",
       "Branded          100493  100493       100493      100493  \n",
       "Unbranded        388274  388274       388274      388274  "
      ]
     },
     "execution_count": 5,
     "metadata": {},
     "output_type": "execute_result"
    }
   ],
   "source": [
    "df.groupby('CAMPAIGN_TYPE').count()"
   ]
  },
  {
   "cell_type": "code",
   "execution_count": 6,
   "metadata": {},
   "outputs": [
    {
     "data": {
      "text/html": [
       "<div>\n",
       "<style scoped>\n",
       "    .dataframe tbody tr th:only-of-type {\n",
       "        vertical-align: middle;\n",
       "    }\n",
       "\n",
       "    .dataframe tbody tr th {\n",
       "        vertical-align: top;\n",
       "    }\n",
       "\n",
       "    .dataframe thead th {\n",
       "        text-align: right;\n",
       "    }\n",
       "</style>\n",
       "<table border=\"1\" class=\"dataframe\">\n",
       "  <thead>\n",
       "    <tr style=\"text-align: right;\">\n",
       "      <th></th>\n",
       "      <th>DATE</th>\n",
       "      <th>WEEK_OF_YEAR</th>\n",
       "      <th>CAMPAIGN</th>\n",
       "      <th>CAMPAIGN_TYPE</th>\n",
       "      <th>KEYWORD</th>\n",
       "      <th>CPC</th>\n",
       "      <th>PAGE_VIEWS</th>\n",
       "      <th>TIME_ON_SITE_TOTAL</th>\n",
       "      <th>VISITOR_BOUNCE</th>\n",
       "      <th>VISITS</th>\n",
       "      <th>POSITION</th>\n",
       "      <th>Clicks</th>\n",
       "      <th>Impressions</th>\n",
       "      <th>Media_Cost</th>\n",
       "    </tr>\n",
       "    <tr>\n",
       "      <th>NETWORK</th>\n",
       "      <th></th>\n",
       "      <th></th>\n",
       "      <th></th>\n",
       "      <th></th>\n",
       "      <th></th>\n",
       "      <th></th>\n",
       "      <th></th>\n",
       "      <th></th>\n",
       "      <th></th>\n",
       "      <th></th>\n",
       "      <th></th>\n",
       "      <th></th>\n",
       "      <th></th>\n",
       "      <th></th>\n",
       "    </tr>\n",
       "  </thead>\n",
       "  <tbody>\n",
       "    <tr>\n",
       "      <th>Bing</th>\n",
       "      <td>177312</td>\n",
       "      <td>177312</td>\n",
       "      <td>177312</td>\n",
       "      <td>177312</td>\n",
       "      <td>177312</td>\n",
       "      <td>177312</td>\n",
       "      <td>177312</td>\n",
       "      <td>177312</td>\n",
       "      <td>177312</td>\n",
       "      <td>177312</td>\n",
       "      <td>177312</td>\n",
       "      <td>177312</td>\n",
       "      <td>177312</td>\n",
       "      <td>177312</td>\n",
       "    </tr>\n",
       "    <tr>\n",
       "      <th>Google</th>\n",
       "      <td>308740</td>\n",
       "      <td>308740</td>\n",
       "      <td>308740</td>\n",
       "      <td>308740</td>\n",
       "      <td>308740</td>\n",
       "      <td>308740</td>\n",
       "      <td>308740</td>\n",
       "      <td>308740</td>\n",
       "      <td>308740</td>\n",
       "      <td>308740</td>\n",
       "      <td>308740</td>\n",
       "      <td>308740</td>\n",
       "      <td>308740</td>\n",
       "      <td>308740</td>\n",
       "    </tr>\n",
       "    <tr>\n",
       "      <th>Yahoo</th>\n",
       "      <td>2715</td>\n",
       "      <td>2715</td>\n",
       "      <td>2715</td>\n",
       "      <td>2715</td>\n",
       "      <td>2715</td>\n",
       "      <td>2715</td>\n",
       "      <td>2715</td>\n",
       "      <td>2715</td>\n",
       "      <td>2715</td>\n",
       "      <td>2715</td>\n",
       "      <td>2715</td>\n",
       "      <td>2715</td>\n",
       "      <td>2715</td>\n",
       "      <td>2715</td>\n",
       "    </tr>\n",
       "  </tbody>\n",
       "</table>\n",
       "</div>"
      ],
      "text/plain": [
       "           DATE  WEEK_OF_YEAR  CAMPAIGN  CAMPAIGN_TYPE  KEYWORD     CPC  \\\n",
       "NETWORK                                                                   \n",
       "Bing     177312        177312    177312         177312   177312  177312   \n",
       "Google   308740        308740    308740         308740   308740  308740   \n",
       "Yahoo      2715          2715      2715           2715     2715    2715   \n",
       "\n",
       "         PAGE_VIEWS  TIME_ON_SITE_TOTAL  VISITOR_BOUNCE  VISITS  POSITION  \\\n",
       "NETWORK                                                                     \n",
       "Bing         177312              177312          177312  177312    177312   \n",
       "Google       308740              308740          308740  308740    308740   \n",
       "Yahoo          2715                2715            2715    2715      2715   \n",
       "\n",
       "         Clicks  Impressions  Media_Cost  \n",
       "NETWORK                                   \n",
       "Bing     177312       177312      177312  \n",
       "Google   308740       308740      308740  \n",
       "Yahoo      2715         2715        2715  "
      ]
     },
     "execution_count": 6,
     "metadata": {},
     "output_type": "execute_result"
    }
   ],
   "source": [
    "df.groupby('NETWORK').count()"
   ]
  },
  {
   "cell_type": "code",
   "execution_count": 7,
   "metadata": {},
   "outputs": [],
   "source": [
    "df_new = df.drop(['DATE','WEEK_OF_YEAR','CAMPAIGN','CAMPAIGN_TYPE','KEYWORD','NETWORK'], axis=1)"
   ]
  },
  {
   "cell_type": "code",
   "execution_count": 9,
   "metadata": {},
   "outputs": [
    {
     "data": {
      "text/plain": [
       "<matplotlib.axes._subplots.AxesSubplot at 0x211db524ac8>"
      ]
     },
     "execution_count": 9,
     "metadata": {},
     "output_type": "execute_result"
    },
    {
     "data": {
      "image/png": "[encoded data removed]",
      "text/plain": [
       "<Figure size 432x288 with 2 Axes>"
      ]
     },
     "metadata": {
      "needs_background": "light"
     },
     "output_type": "display_data"
    }
   ],
   "source": [
    "sb.heatmap(df_new.corr())"
   ]
  },
  {
   "cell_type": "code",
   "execution_count": 10,
   "metadata": {},
   "outputs": [],
   "source": [
    "scaler = StandardScaler()\n",
    "X = df_new.values\n",
    "X_new = scaler.fit_transform(X)"
   ]
  },
  {
   "cell_type": "code",
   "execution_count": 11,
   "metadata": {},
   "outputs": [],
   "source": [
    "pca = PCA(n_components=0.95)\n",
    "pca.fit(X_new)\n",
    "m = pca.transform(X_new)"
   ]
  },
  {
   "cell_type": "code",
   "execution_count": 12,
   "metadata": {},
   "outputs": [
    {
     "data": {
      "text/plain": [
       "array([0.44962463, 0.20099246, 0.11217744, 0.11080965, 0.05459217,\n",
       "       0.04332872])"
      ]
     },
     "execution_count": 12,
     "metadata": {},
     "output_type": "execute_result"
    }
   ],
   "source": [
    "pca.explained_variance_ratio_"
   ]
  },
  {
   "cell_type": "code",
   "execution_count": 13,
   "metadata": {},
   "outputs": [
    {
     "data": {
      "text/plain": [
       "array([[-0.02279017,  0.46022473,  0.4197459 ,  0.41348243,  0.46704412,\n",
       "        -0.01299635,  0.31561174,  0.22413128,  0.26902553],\n",
       "       [ 0.09167066, -0.25133085, -0.23889188, -0.19667725, -0.23640698,\n",
       "        -0.02986168,  0.47500306,  0.50096972,  0.54708269],\n",
       "       [ 0.50635179,  0.00890812, -0.0099902 ,  0.05299527,  0.02241217,\n",
       "         0.85545338, -0.06970964,  0.05873105, -0.00294079],\n",
       "       [-0.84987925, -0.02187173, -0.00660063, -0.05071715, -0.03046187,\n",
       "         0.50235974,  0.05272799,  0.13027509, -0.03957303],\n",
       "       [ 0.01997162, -0.04931101, -0.20279124,  0.30801729,  0.05319043,\n",
       "        -0.11919719, -0.39067159,  0.75791135, -0.34216885],\n",
       "       [ 0.06916297,  0.13271664,  0.61556347, -0.67459663, -0.07269556,\n",
       "        -0.0235779 , -0.11896526,  0.31963259, -0.14644281]])"
      ]
     },
     "execution_count": 13,
     "metadata": {},
     "output_type": "execute_result"
    }
   ],
   "source": [
    "pca.components_"
   ]
  },
  {
   "cell_type": "code",
   "execution_count": 15,
   "metadata": {},
   "outputs": [],
   "source": [
    "import numpy as np\n",
    "most_important = [np.abs(pca.components_[i]).argmax() for i in range(pca.components_.shape[0])]"
   ]
  },
  {
   "cell_type": "code",
   "execution_count": 16,
   "metadata": {},
   "outputs": [],
   "source": [
    "feature_names = df_new.columns"
   ]
  },
  {
   "cell_type": "code",
   "execution_count": 17,
   "metadata": {},
   "outputs": [],
   "source": [
    "most_important_names = [feature_names[most_important[i]] for i in range(pca.components_.shape[0])]"
   ]
  },
  {
   "cell_type": "code",
   "execution_count": 18,
   "metadata": {},
   "outputs": [
    {
     "data": {
      "text/plain": [
       "['VISITS', 'Media_Cost', 'POSITION', 'CPC', 'Impressions', 'VISITOR_BOUNCE']"
      ]
     },
     "execution_count": 18,
     "metadata": {},
     "output_type": "execute_result"
    }
   ],
   "source": [
    "most_important_names"
   ]
  },
  {
   "cell_type": "code",
   "execution_count": 19,
   "metadata": {},
   "outputs": [],
   "source": [
    "xvector = pca.components_[0]\n",
    "yvector = pca.components_[1]"
   ]
  },
  {
   "cell_type": "code",
   "execution_count": 20,
   "metadata": {},
   "outputs": [],
   "source": [
    "xs = m[:,0]\n",
    "ys = m[:,1]"
   ]
  },
  {
   "cell_type": "code",
   "execution_count": 22,
   "metadata": {},
   "outputs": [
    {
     "data": {
      "image/png": "[encoded data removed]",
      "text/plain": [
       "<Figure size 432x288 with 1 Axes>"
      ]
     },
     "metadata": {
      "needs_background": "light"
     },
     "output_type": "display_data"
    }
   ],
   "source": [
    "import matplotlib.pyplot as plt \n",
    "\n",
    "for i in range(len(xvector)):\n",
    "# arrows project features as vectors onto PC axes\n",
    "    plt.arrow(0, 0, xvector[i], yvector[i], color='k', alpha=0.5)\n",
    "    plt.text(xvector[i]*1.15, yvector[i]*1.15, feature_names[i], color='g')\n",
    "\n",
    "plt.xlim(-0.1,0.9)\n",
    "plt.ylim(-0.9,0.9)\n",
    "\n",
    "plt.show()"
   ]
  },
  {
   "cell_type": "code",
   "execution_count": null,
   "metadata": {},
   "outputs": [],
   "source": []
  }
 ],
 "metadata": {
  "kernelspec": {
   "display_name": "Python 3",
   "language": "python",
   "name": "python3"
  },
  "language_info": {
   "codemirror_mode": {
    "name": "ipython",
    "version": 3
   },
   "file_extension": ".py",
   "mimetype": "text/x-python",
   "name": "python",
   "nbconvert_exporter": "python",
   "pygments_lexer": "ipython3",
   "version": "3.7.1"
  }
 },
 "nbformat": 4,
 "nbformat_minor": 4
}
